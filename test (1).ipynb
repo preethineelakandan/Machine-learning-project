{
 "cells": [
  {
   "cell_type": "code",
   "execution_count": 13,
   "id": "2f0c981e-e545-4c17-8fc9-5c3cacfb1580",
   "metadata": {},
   "outputs": [],
   "source": [
    "import pandas as pd \n",
    "import numpy as np\n",
    "from sklearn.preprocessing import MinMaxScaler\n",
    "import os\n",
    "from joblib import dump, load\n",
    "from sklearn.model_selection import train_test_split\n",
    "from sklearn.metrics import accuracy_score\n",
    "from sklearn.linear_model import LogisticRegression\n"
   ]
  },
  {
   "cell_type": "code",
   "execution_count": 16,
   "id": "eee33906-a046-4c09-823e-e6ebb7f2b544",
   "metadata": {},
   "outputs": [],
   "source": [
    "import warnings\n",
    "warnings.filterwarnings(\"ignore\", category=UserWarning)\n",
    "\n",
    "def test_pipeline(x_test_path, model_path):\n",
    "    \n",
    "    x_data = pd.read_csv(x_test_path)\n",
    "    \n",
    "    loaded_scaler = load('models/scaler/min_max_scaler.pkl')\n",
    "    x_data_normalized = loaded_scaler.transform(x_data)\n",
    "    \n",
    "    loaded_model = load('models/logistic_regression.pkl')\n",
    "    y_pred = loaded_model.predict(x_data_normalized)\n",
    "    \n",
    "    y_pred_df = pd.DataFrame(y_pred, columns=['Predicted_Label'])\n",
    "    \n",
    "    return y_pred_df\n",
    "\n",
    "\n",
    "y_pred_df = test_pipeline(\"data/x_test.csv\", 'models/RF.pkl')\n",
    "\n"
   ]
  },
  {
   "cell_type": "code",
   "execution_count": 17,
   "id": "10539e1d-9fe6-4cdf-8aef-fc2905d21c8f",
   "metadata": {},
   "outputs": [
    {
     "name": "stdout",
     "output_type": "stream",
     "text": [
      "     Predicted_Label\n",
      "0                  0\n",
      "1                  0\n",
      "2                  0\n",
      "3                  0\n",
      "4                  0\n",
      "..               ...\n",
      "231                0\n",
      "232                0\n",
      "233                0\n",
      "234                0\n",
      "235                0\n",
      "\n",
      "[236 rows x 1 columns]\n"
     ]
    }
   ],
   "source": [
    "print(y_pred_df)"
   ]
  },
  {
   "cell_type": "code",
   "execution_count": null,
   "id": "1a4b9d02-183e-4efe-9eb4-4720e9f1a8b0",
   "metadata": {},
   "outputs": [],
   "source": []
  },
  {
   "cell_type": "code",
   "execution_count": null,
   "id": "b99a0a09-c520-41f4-8d1d-e352feb55e83",
   "metadata": {},
   "outputs": [],
   "source": []
  }
 ],
 "metadata": {
  "kernelspec": {
   "display_name": "Python 3 (ipykernel)",
   "language": "python",
   "name": "python3"
  },
  "language_info": {
   "codemirror_mode": {
    "name": "ipython",
    "version": 3
   },
   "file_extension": ".py",
   "mimetype": "text/x-python",
   "name": "python",
   "nbconvert_exporter": "python",
   "pygments_lexer": "ipython3",
   "version": "3.11.5"
  }
 },
 "nbformat": 4,
 "nbformat_minor": 5
}
