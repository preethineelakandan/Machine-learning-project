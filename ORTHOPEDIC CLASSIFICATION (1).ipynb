{
 "cells": [
  {
   "cell_type": "markdown",
   "id": "510652bc-1902-4136-976e-3d7e26edb603",
   "metadata": {},
   "source": [
    "ORTHOPEDIC CLASSIFICATION\n"
   ]
  },
  {
   "cell_type": "code",
   "execution_count": 55,
   "id": "f7029aec-a685-41af-85b9-657503c8319f",
   "metadata": {},
   "outputs": [],
   "source": [
    "#Predictive Modeling for Enhanced Orthopedic Outcomes"
   ]
  },
  {
   "cell_type": "code",
   "execution_count": 56,
   "id": "bc5f1c89-1ec8-483a-a1f2-eada3c082aff",
   "metadata": {},
   "outputs": [],
   "source": [
    "import pandas as pd \n",
    "import numpy as np\n"
   ]
  },
  {
   "cell_type": "code",
   "execution_count": 57,
   "id": "7f75e8b5-1ffc-4ed7-98fc-2192b80183a8",
   "metadata": {},
   "outputs": [],
   "source": [
    "data = pd.read_csv(r\"C:\\Users\\neela\\OneDrive\\data\\orthopedic dataset.csv\")\n"
   ]
  },
  {
   "cell_type": "code",
   "execution_count": 58,
   "id": "1751babe-b63b-48e5-8310-faf04233432c",
   "metadata": {},
   "outputs": [
    {
     "data": {
      "text/html": [
       "<div>\n",
       "<style scoped>\n",
       "    .dataframe tbody tr th:only-of-type {\n",
       "        vertical-align: middle;\n",
       "    }\n",
       "\n",
       "    .dataframe tbody tr th {\n",
       "        vertical-align: top;\n",
       "    }\n",
       "\n",
       "    .dataframe thead th {\n",
       "        text-align: right;\n",
       "    }\n",
       "</style>\n",
       "<table border=\"1\" class=\"dataframe\">\n",
       "  <thead>\n",
       "    <tr style=\"text-align: right;\">\n",
       "      <th></th>\n",
       "      <th>pelvic_incidence</th>\n",
       "      <th>pelvic_tilt numeric</th>\n",
       "      <th>lumbar_lordosis_angle</th>\n",
       "      <th>sacral_slope</th>\n",
       "      <th>pelvic_radius</th>\n",
       "      <th>degree_spondylolisthesis</th>\n",
       "      <th>class</th>\n",
       "    </tr>\n",
       "  </thead>\n",
       "  <tbody>\n",
       "    <tr>\n",
       "      <th>0</th>\n",
       "      <td>63.027817</td>\n",
       "      <td>22.552586</td>\n",
       "      <td>39.609117</td>\n",
       "      <td>40.475232</td>\n",
       "      <td>98.672917</td>\n",
       "      <td>-0.254400</td>\n",
       "      <td>Abnormal</td>\n",
       "    </tr>\n",
       "    <tr>\n",
       "      <th>1</th>\n",
       "      <td>39.056951</td>\n",
       "      <td>10.060991</td>\n",
       "      <td>25.015378</td>\n",
       "      <td>28.995960</td>\n",
       "      <td>114.405425</td>\n",
       "      <td>4.564259</td>\n",
       "      <td>Abnormal</td>\n",
       "    </tr>\n",
       "    <tr>\n",
       "      <th>2</th>\n",
       "      <td>68.832021</td>\n",
       "      <td>22.218482</td>\n",
       "      <td>50.092194</td>\n",
       "      <td>46.613539</td>\n",
       "      <td>105.985135</td>\n",
       "      <td>-3.530317</td>\n",
       "      <td>Abnormal</td>\n",
       "    </tr>\n",
       "    <tr>\n",
       "      <th>3</th>\n",
       "      <td>69.297008</td>\n",
       "      <td>24.652878</td>\n",
       "      <td>44.311238</td>\n",
       "      <td>44.644130</td>\n",
       "      <td>101.868495</td>\n",
       "      <td>11.211523</td>\n",
       "      <td>Abnormal</td>\n",
       "    </tr>\n",
       "    <tr>\n",
       "      <th>4</th>\n",
       "      <td>49.712859</td>\n",
       "      <td>9.652075</td>\n",
       "      <td>28.317406</td>\n",
       "      <td>40.060784</td>\n",
       "      <td>108.168725</td>\n",
       "      <td>7.918501</td>\n",
       "      <td>Abnormal</td>\n",
       "    </tr>\n",
       "    <tr>\n",
       "      <th>...</th>\n",
       "      <td>...</td>\n",
       "      <td>...</td>\n",
       "      <td>...</td>\n",
       "      <td>...</td>\n",
       "      <td>...</td>\n",
       "      <td>...</td>\n",
       "      <td>...</td>\n",
       "    </tr>\n",
       "    <tr>\n",
       "      <th>1175</th>\n",
       "      <td>74.088795</td>\n",
       "      <td>9.433234</td>\n",
       "      <td>52.585800</td>\n",
       "      <td>19.195300</td>\n",
       "      <td>134.711772</td>\n",
       "      <td>29.106575</td>\n",
       "      <td>Abnormal</td>\n",
       "    </tr>\n",
       "    <tr>\n",
       "      <th>1176</th>\n",
       "      <td>63.811232</td>\n",
       "      <td>21.380645</td>\n",
       "      <td>87.163863</td>\n",
       "      <td>16.158201</td>\n",
       "      <td>114.818751</td>\n",
       "      <td>26.931841</td>\n",
       "      <td>Abnormal</td>\n",
       "    </tr>\n",
       "    <tr>\n",
       "      <th>1177</th>\n",
       "      <td>68.384311</td>\n",
       "      <td>21.936186</td>\n",
       "      <td>61.089501</td>\n",
       "      <td>29.237841</td>\n",
       "      <td>123.932010</td>\n",
       "      <td>10.431972</td>\n",
       "      <td>Abnormal</td>\n",
       "    </tr>\n",
       "    <tr>\n",
       "      <th>1178</th>\n",
       "      <td>70.317179</td>\n",
       "      <td>41.286305</td>\n",
       "      <td>110.677897</td>\n",
       "      <td>14.702656</td>\n",
       "      <td>115.012334</td>\n",
       "      <td>26.588100</td>\n",
       "      <td>Abnormal</td>\n",
       "    </tr>\n",
       "    <tr>\n",
       "      <th>1179</th>\n",
       "      <td>74.642516</td>\n",
       "      <td>22.181798</td>\n",
       "      <td>80.854286</td>\n",
       "      <td>17.176716</td>\n",
       "      <td>118.530327</td>\n",
       "      <td>27.383213</td>\n",
       "      <td>Abnormal</td>\n",
       "    </tr>\n",
       "  </tbody>\n",
       "</table>\n",
       "<p>1180 rows × 7 columns</p>\n",
       "</div>"
      ],
      "text/plain": [
       "      pelvic_incidence  pelvic_tilt numeric  lumbar_lordosis_angle  \\\n",
       "0            63.027817            22.552586              39.609117   \n",
       "1            39.056951            10.060991              25.015378   \n",
       "2            68.832021            22.218482              50.092194   \n",
       "3            69.297008            24.652878              44.311238   \n",
       "4            49.712859             9.652075              28.317406   \n",
       "...                ...                  ...                    ...   \n",
       "1175         74.088795             9.433234              52.585800   \n",
       "1176         63.811232            21.380645              87.163863   \n",
       "1177         68.384311            21.936186              61.089501   \n",
       "1178         70.317179            41.286305             110.677897   \n",
       "1179         74.642516            22.181798              80.854286   \n",
       "\n",
       "      sacral_slope  pelvic_radius  degree_spondylolisthesis     class  \n",
       "0        40.475232      98.672917                 -0.254400  Abnormal  \n",
       "1        28.995960     114.405425                  4.564259  Abnormal  \n",
       "2        46.613539     105.985135                 -3.530317  Abnormal  \n",
       "3        44.644130     101.868495                 11.211523  Abnormal  \n",
       "4        40.060784     108.168725                  7.918501  Abnormal  \n",
       "...            ...            ...                       ...       ...  \n",
       "1175     19.195300     134.711772                 29.106575  Abnormal  \n",
       "1176     16.158201     114.818751                 26.931841  Abnormal  \n",
       "1177     29.237841     123.932010                 10.431972  Abnormal  \n",
       "1178     14.702656     115.012334                 26.588100  Abnormal  \n",
       "1179     17.176716     118.530327                 27.383213  Abnormal  \n",
       "\n",
       "[1180 rows x 7 columns]"
      ]
     },
     "execution_count": 58,
     "metadata": {},
     "output_type": "execute_result"
    }
   ],
   "source": [
    "data"
   ]
  },
  {
   "cell_type": "code",
   "execution_count": 59,
   "id": "738de0c5-e3d9-4228-a47a-146b7e2f8e74",
   "metadata": {},
   "outputs": [
    {
     "data": {
      "text/html": [
       "<div>\n",
       "<style scoped>\n",
       "    .dataframe tbody tr th:only-of-type {\n",
       "        vertical-align: middle;\n",
       "    }\n",
       "\n",
       "    .dataframe tbody tr th {\n",
       "        vertical-align: top;\n",
       "    }\n",
       "\n",
       "    .dataframe thead th {\n",
       "        text-align: right;\n",
       "    }\n",
       "</style>\n",
       "<table border=\"1\" class=\"dataframe\">\n",
       "  <thead>\n",
       "    <tr style=\"text-align: right;\">\n",
       "      <th></th>\n",
       "      <th>pelvic_incidence</th>\n",
       "      <th>pelvic_tilt numeric</th>\n",
       "      <th>lumbar_lordosis_angle</th>\n",
       "      <th>sacral_slope</th>\n",
       "      <th>pelvic_radius</th>\n",
       "      <th>degree_spondylolisthesis</th>\n",
       "      <th>class</th>\n",
       "    </tr>\n",
       "  </thead>\n",
       "  <tbody>\n",
       "    <tr>\n",
       "      <th>0</th>\n",
       "      <td>63.027817</td>\n",
       "      <td>22.552586</td>\n",
       "      <td>39.609117</td>\n",
       "      <td>40.475232</td>\n",
       "      <td>98.672917</td>\n",
       "      <td>-0.254400</td>\n",
       "      <td>Abnormal</td>\n",
       "    </tr>\n",
       "    <tr>\n",
       "      <th>1</th>\n",
       "      <td>39.056951</td>\n",
       "      <td>10.060991</td>\n",
       "      <td>25.015378</td>\n",
       "      <td>28.995960</td>\n",
       "      <td>114.405425</td>\n",
       "      <td>4.564259</td>\n",
       "      <td>Abnormal</td>\n",
       "    </tr>\n",
       "    <tr>\n",
       "      <th>2</th>\n",
       "      <td>68.832021</td>\n",
       "      <td>22.218482</td>\n",
       "      <td>50.092194</td>\n",
       "      <td>46.613539</td>\n",
       "      <td>105.985135</td>\n",
       "      <td>-3.530317</td>\n",
       "      <td>Abnormal</td>\n",
       "    </tr>\n",
       "    <tr>\n",
       "      <th>3</th>\n",
       "      <td>69.297008</td>\n",
       "      <td>24.652878</td>\n",
       "      <td>44.311238</td>\n",
       "      <td>44.644130</td>\n",
       "      <td>101.868495</td>\n",
       "      <td>11.211523</td>\n",
       "      <td>Abnormal</td>\n",
       "    </tr>\n",
       "    <tr>\n",
       "      <th>4</th>\n",
       "      <td>49.712859</td>\n",
       "      <td>9.652075</td>\n",
       "      <td>28.317406</td>\n",
       "      <td>40.060784</td>\n",
       "      <td>108.168725</td>\n",
       "      <td>7.918501</td>\n",
       "      <td>Abnormal</td>\n",
       "    </tr>\n",
       "  </tbody>\n",
       "</table>\n",
       "</div>"
      ],
      "text/plain": [
       "   pelvic_incidence  pelvic_tilt numeric  lumbar_lordosis_angle  sacral_slope  \\\n",
       "0         63.027817            22.552586              39.609117     40.475232   \n",
       "1         39.056951            10.060991              25.015378     28.995960   \n",
       "2         68.832021            22.218482              50.092194     46.613539   \n",
       "3         69.297008            24.652878              44.311238     44.644130   \n",
       "4         49.712859             9.652075              28.317406     40.060784   \n",
       "\n",
       "   pelvic_radius  degree_spondylolisthesis     class  \n",
       "0      98.672917                 -0.254400  Abnormal  \n",
       "1     114.405425                  4.564259  Abnormal  \n",
       "2     105.985135                 -3.530317  Abnormal  \n",
       "3     101.868495                 11.211523  Abnormal  \n",
       "4     108.168725                  7.918501  Abnormal  "
      ]
     },
     "execution_count": 59,
     "metadata": {},
     "output_type": "execute_result"
    }
   ],
   "source": [
    "data.head()"
   ]
  },
  {
   "cell_type": "code",
   "execution_count": 60,
   "id": "0cc40223-d3c4-4973-80ba-5a58457be225",
   "metadata": {},
   "outputs": [
    {
     "data": {
      "text/plain": [
       "pelvic_incidence            0\n",
       "pelvic_tilt numeric         0\n",
       "lumbar_lordosis_angle       0\n",
       "sacral_slope                0\n",
       "pelvic_radius               0\n",
       "degree_spondylolisthesis    0\n",
       "class                       0\n",
       "dtype: int64"
      ]
     },
     "execution_count": 60,
     "metadata": {},
     "output_type": "execute_result"
    }
   ],
   "source": [
    "data.isnull().sum()"
   ]
  },
  {
   "cell_type": "code",
   "execution_count": 61,
   "id": "d6ca1f46-d620-4d0b-b94b-726a47391611",
   "metadata": {},
   "outputs": [
    {
     "data": {
      "text/plain": [
       "False    1180\n",
       "Name: count, dtype: int64"
      ]
     },
     "execution_count": 61,
     "metadata": {},
     "output_type": "execute_result"
    }
   ],
   "source": [
    "data.duplicated().value_counts()"
   ]
  },
  {
   "cell_type": "code",
   "execution_count": 62,
   "id": "5966f38e-ad45-4aad-98d8-c80dcb985104",
   "metadata": {},
   "outputs": [
    {
     "name": "stdout",
     "output_type": "stream",
     "text": [
      "<class 'pandas.core.frame.DataFrame'>\n",
      "RangeIndex: 1180 entries, 0 to 1179\n",
      "Data columns (total 7 columns):\n",
      " #   Column                    Non-Null Count  Dtype  \n",
      "---  ------                    --------------  -----  \n",
      " 0   pelvic_incidence          1180 non-null   float64\n",
      " 1   pelvic_tilt numeric       1180 non-null   float64\n",
      " 2   lumbar_lordosis_angle     1180 non-null   float64\n",
      " 3   sacral_slope              1180 non-null   float64\n",
      " 4   pelvic_radius             1180 non-null   float64\n",
      " 5   degree_spondylolisthesis  1180 non-null   float64\n",
      " 6   class                     1180 non-null   object \n",
      "dtypes: float64(6), object(1)\n",
      "memory usage: 64.7+ KB\n"
     ]
    }
   ],
   "source": [
    "data.info()"
   ]
  },
  {
   "cell_type": "code",
   "execution_count": 63,
   "id": "fb7369e5-0820-492a-8f10-a43f0741929f",
   "metadata": {},
   "outputs": [],
   "source": [
    "##Splitting data"
   ]
  },
  {
   "cell_type": "code",
   "execution_count": 64,
   "id": "26baa814-145b-4c61-9821-475262f6abd7",
   "metadata": {},
   "outputs": [],
   "source": [
    "x_data=data.drop(['class'],axis=1)\n",
    "y_data=data['class']\n"
   ]
  },
  {
   "cell_type": "code",
   "execution_count": 65,
   "id": "f8de85fe-b37c-4700-bd92-94ad0ee54115",
   "metadata": {},
   "outputs": [],
   "source": [
    "from sklearn.model_selection import train_test_split\n",
    "\n",
    "x_train, x_test, y_train, y_test = train_test_split(x_data,y_data,test_size = 0.2,random_state=42)\n",
    "import os\n",
    "output_directory = \"data\"\n",
    "os.makedirs(output_directory, exist_ok=True)\n",
    "x_train.to_csv(os.path.join(output_directory, \"x_train.csv\"), index=False)\n",
    "x_test.to_csv(os.path.join(output_directory, \"x_test.csv\"), index=False)\n",
    "y_train.to_csv(os.path.join(output_directory, \"y_train.csv\"), index=False)\n",
    "y_test.to_csv(os.path.join(output_directory, \"y_test.csv\"), index=False)"
   ]
  },
  {
   "cell_type": "code",
   "execution_count": 66,
   "id": "bb7c2acb-94e5-4f22-8e08-3d4d06943432",
   "metadata": {},
   "outputs": [],
   "source": [
    "##Seperateing numerical and categorical columns"
   ]
  },
  {
   "cell_type": "code",
   "execution_count": 67,
   "id": "04d3c332-c4d9-45d8-8d87-5dfef014ae51",
   "metadata": {},
   "outputs": [],
   "source": [
    "numeric_columns = data.select_dtypes(exclude=['object'])\n",
    "categorical_columns = data.select_dtypes(include=['object'])"
   ]
  },
  {
   "cell_type": "code",
   "execution_count": 68,
   "id": "b079a47a-6822-4e36-bdbd-3ebd952893ac",
   "metadata": {},
   "outputs": [
    {
     "data": {
      "text/html": [
       "<div>\n",
       "<style scoped>\n",
       "    .dataframe tbody tr th:only-of-type {\n",
       "        vertical-align: middle;\n",
       "    }\n",
       "\n",
       "    .dataframe tbody tr th {\n",
       "        vertical-align: top;\n",
       "    }\n",
       "\n",
       "    .dataframe thead th {\n",
       "        text-align: right;\n",
       "    }\n",
       "</style>\n",
       "<table border=\"1\" class=\"dataframe\">\n",
       "  <thead>\n",
       "    <tr style=\"text-align: right;\">\n",
       "      <th></th>\n",
       "      <th>pelvic_incidence</th>\n",
       "      <th>pelvic_tilt numeric</th>\n",
       "      <th>lumbar_lordosis_angle</th>\n",
       "      <th>sacral_slope</th>\n",
       "      <th>pelvic_radius</th>\n",
       "      <th>degree_spondylolisthesis</th>\n",
       "    </tr>\n",
       "  </thead>\n",
       "  <tbody>\n",
       "    <tr>\n",
       "      <th>0</th>\n",
       "      <td>63.027817</td>\n",
       "      <td>22.552586</td>\n",
       "      <td>39.609117</td>\n",
       "      <td>40.475232</td>\n",
       "      <td>98.672917</td>\n",
       "      <td>-0.254400</td>\n",
       "    </tr>\n",
       "    <tr>\n",
       "      <th>1</th>\n",
       "      <td>39.056951</td>\n",
       "      <td>10.060991</td>\n",
       "      <td>25.015378</td>\n",
       "      <td>28.995960</td>\n",
       "      <td>114.405425</td>\n",
       "      <td>4.564259</td>\n",
       "    </tr>\n",
       "    <tr>\n",
       "      <th>2</th>\n",
       "      <td>68.832021</td>\n",
       "      <td>22.218482</td>\n",
       "      <td>50.092194</td>\n",
       "      <td>46.613539</td>\n",
       "      <td>105.985135</td>\n",
       "      <td>-3.530317</td>\n",
       "    </tr>\n",
       "    <tr>\n",
       "      <th>3</th>\n",
       "      <td>69.297008</td>\n",
       "      <td>24.652878</td>\n",
       "      <td>44.311238</td>\n",
       "      <td>44.644130</td>\n",
       "      <td>101.868495</td>\n",
       "      <td>11.211523</td>\n",
       "    </tr>\n",
       "    <tr>\n",
       "      <th>4</th>\n",
       "      <td>49.712859</td>\n",
       "      <td>9.652075</td>\n",
       "      <td>28.317406</td>\n",
       "      <td>40.060784</td>\n",
       "      <td>108.168725</td>\n",
       "      <td>7.918501</td>\n",
       "    </tr>\n",
       "    <tr>\n",
       "      <th>...</th>\n",
       "      <td>...</td>\n",
       "      <td>...</td>\n",
       "      <td>...</td>\n",
       "      <td>...</td>\n",
       "      <td>...</td>\n",
       "      <td>...</td>\n",
       "    </tr>\n",
       "    <tr>\n",
       "      <th>1175</th>\n",
       "      <td>74.088795</td>\n",
       "      <td>9.433234</td>\n",
       "      <td>52.585800</td>\n",
       "      <td>19.195300</td>\n",
       "      <td>134.711772</td>\n",
       "      <td>29.106575</td>\n",
       "    </tr>\n",
       "    <tr>\n",
       "      <th>1176</th>\n",
       "      <td>63.811232</td>\n",
       "      <td>21.380645</td>\n",
       "      <td>87.163863</td>\n",
       "      <td>16.158201</td>\n",
       "      <td>114.818751</td>\n",
       "      <td>26.931841</td>\n",
       "    </tr>\n",
       "    <tr>\n",
       "      <th>1177</th>\n",
       "      <td>68.384311</td>\n",
       "      <td>21.936186</td>\n",
       "      <td>61.089501</td>\n",
       "      <td>29.237841</td>\n",
       "      <td>123.932010</td>\n",
       "      <td>10.431972</td>\n",
       "    </tr>\n",
       "    <tr>\n",
       "      <th>1178</th>\n",
       "      <td>70.317179</td>\n",
       "      <td>41.286305</td>\n",
       "      <td>110.677897</td>\n",
       "      <td>14.702656</td>\n",
       "      <td>115.012334</td>\n",
       "      <td>26.588100</td>\n",
       "    </tr>\n",
       "    <tr>\n",
       "      <th>1179</th>\n",
       "      <td>74.642516</td>\n",
       "      <td>22.181798</td>\n",
       "      <td>80.854286</td>\n",
       "      <td>17.176716</td>\n",
       "      <td>118.530327</td>\n",
       "      <td>27.383213</td>\n",
       "    </tr>\n",
       "  </tbody>\n",
       "</table>\n",
       "<p>1180 rows × 6 columns</p>\n",
       "</div>"
      ],
      "text/plain": [
       "      pelvic_incidence  pelvic_tilt numeric  lumbar_lordosis_angle  \\\n",
       "0            63.027817            22.552586              39.609117   \n",
       "1            39.056951            10.060991              25.015378   \n",
       "2            68.832021            22.218482              50.092194   \n",
       "3            69.297008            24.652878              44.311238   \n",
       "4            49.712859             9.652075              28.317406   \n",
       "...                ...                  ...                    ...   \n",
       "1175         74.088795             9.433234              52.585800   \n",
       "1176         63.811232            21.380645              87.163863   \n",
       "1177         68.384311            21.936186              61.089501   \n",
       "1178         70.317179            41.286305             110.677897   \n",
       "1179         74.642516            22.181798              80.854286   \n",
       "\n",
       "      sacral_slope  pelvic_radius  degree_spondylolisthesis  \n",
       "0        40.475232      98.672917                 -0.254400  \n",
       "1        28.995960     114.405425                  4.564259  \n",
       "2        46.613539     105.985135                 -3.530317  \n",
       "3        44.644130     101.868495                 11.211523  \n",
       "4        40.060784     108.168725                  7.918501  \n",
       "...            ...            ...                       ...  \n",
       "1175     19.195300     134.711772                 29.106575  \n",
       "1176     16.158201     114.818751                 26.931841  \n",
       "1177     29.237841     123.932010                 10.431972  \n",
       "1178     14.702656     115.012334                 26.588100  \n",
       "1179     17.176716     118.530327                 27.383213  \n",
       "\n",
       "[1180 rows x 6 columns]"
      ]
     },
     "execution_count": 68,
     "metadata": {},
     "output_type": "execute_result"
    }
   ],
   "source": [
    "numeric_columns"
   ]
  },
  {
   "cell_type": "code",
   "execution_count": 69,
   "id": "a7be0427-fc4c-4c1c-a76d-52e29fa5847a",
   "metadata": {},
   "outputs": [
    {
     "data": {
      "text/html": [
       "<div>\n",
       "<style scoped>\n",
       "    .dataframe tbody tr th:only-of-type {\n",
       "        vertical-align: middle;\n",
       "    }\n",
       "\n",
       "    .dataframe tbody tr th {\n",
       "        vertical-align: top;\n",
       "    }\n",
       "\n",
       "    .dataframe thead th {\n",
       "        text-align: right;\n",
       "    }\n",
       "</style>\n",
       "<table border=\"1\" class=\"dataframe\">\n",
       "  <thead>\n",
       "    <tr style=\"text-align: right;\">\n",
       "      <th></th>\n",
       "      <th>class</th>\n",
       "    </tr>\n",
       "  </thead>\n",
       "  <tbody>\n",
       "    <tr>\n",
       "      <th>0</th>\n",
       "      <td>Abnormal</td>\n",
       "    </tr>\n",
       "    <tr>\n",
       "      <th>1</th>\n",
       "      <td>Abnormal</td>\n",
       "    </tr>\n",
       "    <tr>\n",
       "      <th>2</th>\n",
       "      <td>Abnormal</td>\n",
       "    </tr>\n",
       "    <tr>\n",
       "      <th>3</th>\n",
       "      <td>Abnormal</td>\n",
       "    </tr>\n",
       "    <tr>\n",
       "      <th>4</th>\n",
       "      <td>Abnormal</td>\n",
       "    </tr>\n",
       "    <tr>\n",
       "      <th>...</th>\n",
       "      <td>...</td>\n",
       "    </tr>\n",
       "    <tr>\n",
       "      <th>1175</th>\n",
       "      <td>Abnormal</td>\n",
       "    </tr>\n",
       "    <tr>\n",
       "      <th>1176</th>\n",
       "      <td>Abnormal</td>\n",
       "    </tr>\n",
       "    <tr>\n",
       "      <th>1177</th>\n",
       "      <td>Abnormal</td>\n",
       "    </tr>\n",
       "    <tr>\n",
       "      <th>1178</th>\n",
       "      <td>Abnormal</td>\n",
       "    </tr>\n",
       "    <tr>\n",
       "      <th>1179</th>\n",
       "      <td>Abnormal</td>\n",
       "    </tr>\n",
       "  </tbody>\n",
       "</table>\n",
       "<p>1180 rows × 1 columns</p>\n",
       "</div>"
      ],
      "text/plain": [
       "         class\n",
       "0     Abnormal\n",
       "1     Abnormal\n",
       "2     Abnormal\n",
       "3     Abnormal\n",
       "4     Abnormal\n",
       "...        ...\n",
       "1175  Abnormal\n",
       "1176  Abnormal\n",
       "1177  Abnormal\n",
       "1178  Abnormal\n",
       "1179  Abnormal\n",
       "\n",
       "[1180 rows x 1 columns]"
      ]
     },
     "execution_count": 69,
     "metadata": {},
     "output_type": "execute_result"
    }
   ],
   "source": [
    "categorical_columns "
   ]
  },
  {
   "cell_type": "code",
   "execution_count": 70,
   "id": "62b52564-ed8b-4ca2-8c13-e2e2e8e42ebf",
   "metadata": {},
   "outputs": [],
   "source": [
    "##Encoding categorical data"
   ]
  },
  {
   "cell_type": "code",
   "execution_count": 71,
   "id": "ed983cbb-dc76-4c88-9c56-ebbdd7192939",
   "metadata": {},
   "outputs": [
    {
     "data": {
      "text/plain": [
       "['models/encoder/label_encoder.pkl']"
      ]
     },
     "execution_count": 71,
     "metadata": {},
     "output_type": "execute_result"
    }
   ],
   "source": [
    "from sklearn.preprocessing import LabelEncoder\n",
    "from joblib import dump, load\n",
    "\n",
    "label_encoder = LabelEncoder()\n",
    "data[\"class_encoded\"] = label_encoder.fit_transform(data[\"class\"])\n",
    "output_directory = 'models/encoder/'\n",
    "os.makedirs(output_directory, exist_ok=True)\n",
    "encoder_file_path = os.path.join(output_directory, 'label_encoder.pkl')\n",
    "dump(label_encoder, encoder_file_path)\n"
   ]
  },
  {
   "cell_type": "code",
   "execution_count": 72,
   "id": "64488639-48fe-4022-b99e-31269f72ff57",
   "metadata": {},
   "outputs": [],
   "source": [
    "loaded_encoder = load('models/encoder/label_encoder_.pkl')\n"
   ]
  },
  {
   "cell_type": "code",
   "execution_count": 73,
   "id": "9eabbed1-7a37-4117-9696-0039229bd91c",
   "metadata": {},
   "outputs": [
    {
     "data": {
      "text/html": [
       "<div>\n",
       "<style scoped>\n",
       "    .dataframe tbody tr th:only-of-type {\n",
       "        vertical-align: middle;\n",
       "    }\n",
       "\n",
       "    .dataframe tbody tr th {\n",
       "        vertical-align: top;\n",
       "    }\n",
       "\n",
       "    .dataframe thead th {\n",
       "        text-align: right;\n",
       "    }\n",
       "</style>\n",
       "<table border=\"1\" class=\"dataframe\">\n",
       "  <thead>\n",
       "    <tr style=\"text-align: right;\">\n",
       "      <th></th>\n",
       "      <th>class_encoded</th>\n",
       "    </tr>\n",
       "  </thead>\n",
       "  <tbody>\n",
       "    <tr>\n",
       "      <th>0</th>\n",
       "      <td>0</td>\n",
       "    </tr>\n",
       "    <tr>\n",
       "      <th>1</th>\n",
       "      <td>0</td>\n",
       "    </tr>\n",
       "    <tr>\n",
       "      <th>2</th>\n",
       "      <td>0</td>\n",
       "    </tr>\n",
       "    <tr>\n",
       "      <th>3</th>\n",
       "      <td>0</td>\n",
       "    </tr>\n",
       "    <tr>\n",
       "      <th>4</th>\n",
       "      <td>0</td>\n",
       "    </tr>\n",
       "    <tr>\n",
       "      <th>...</th>\n",
       "      <td>...</td>\n",
       "    </tr>\n",
       "    <tr>\n",
       "      <th>1175</th>\n",
       "      <td>0</td>\n",
       "    </tr>\n",
       "    <tr>\n",
       "      <th>1176</th>\n",
       "      <td>0</td>\n",
       "    </tr>\n",
       "    <tr>\n",
       "      <th>1177</th>\n",
       "      <td>0</td>\n",
       "    </tr>\n",
       "    <tr>\n",
       "      <th>1178</th>\n",
       "      <td>0</td>\n",
       "    </tr>\n",
       "    <tr>\n",
       "      <th>1179</th>\n",
       "      <td>0</td>\n",
       "    </tr>\n",
       "  </tbody>\n",
       "</table>\n",
       "<p>1180 rows × 1 columns</p>\n",
       "</div>"
      ],
      "text/plain": [
       "      class_encoded\n",
       "0                 0\n",
       "1                 0\n",
       "2                 0\n",
       "3                 0\n",
       "4                 0\n",
       "...             ...\n",
       "1175              0\n",
       "1176              0\n",
       "1177              0\n",
       "1178              0\n",
       "1179              0\n",
       "\n",
       "[1180 rows x 1 columns]"
      ]
     },
     "execution_count": 73,
     "metadata": {},
     "output_type": "execute_result"
    }
   ],
   "source": [
    "transform = loaded_encoder.transform(np.ravel(categorical_columns))\n",
    "encode_categories = pd.DataFrame(transform, columns=[\"class_encoded\"])\n",
    "encode_categories\n"
   ]
  },
  {
   "cell_type": "code",
   "execution_count": 74,
   "id": "e5372495-9a91-46fa-8c8c-933d1e689c01",
   "metadata": {},
   "outputs": [],
   "source": [
    "##Scaling Numerical data"
   ]
  },
  {
   "cell_type": "code",
   "execution_count": 75,
   "id": "8333e29c-0ee7-46c2-a7ae-5db1e4907a76",
   "metadata": {},
   "outputs": [],
   "source": [
    "from sklearn.preprocessing import MinMaxScaler\n",
    "scaler = MinMaxScaler()\n",
    "x_scaled = scaler.fit_transform(x_data)"
   ]
  },
  {
   "cell_type": "code",
   "execution_count": 76,
   "id": "2f88f270-b4ec-47cb-ba95-5d0d55fad2af",
   "metadata": {},
   "outputs": [],
   "source": [
    "numerical_scaler=scaler.fit(numeric_columns)"
   ]
  },
  {
   "cell_type": "code",
   "execution_count": 77,
   "id": "282c81a2-859c-4351-84be-e17d7698a697",
   "metadata": {},
   "outputs": [
    {
     "data": {
      "text/plain": [
       "['models/scaler/MinMax_scaler.pkl']"
      ]
     },
     "execution_count": 77,
     "metadata": {},
     "output_type": "execute_result"
    }
   ],
   "source": [
    "output_directory = 'models/scaler/'\n",
    "os.makedirs(output_directory, exist_ok=True)\n",
    "dump(numerical_scaler, os.path.join(output_directory, 'MinMax_scaler.pkl'))"
   ]
  },
  {
   "cell_type": "code",
   "execution_count": 78,
   "id": "ba690550-dd08-462f-8e41-e25b2fa5651d",
   "metadata": {},
   "outputs": [],
   "source": [
    "loaded_scaler = load('models/scaler/MinMax_scaler.pkl')\n"
   ]
  },
  {
   "cell_type": "code",
   "execution_count": 79,
   "id": "a5416e5f-8a29-495e-977e-9068aaa9380e",
   "metadata": {},
   "outputs": [],
   "source": [
    "scaled_data = loaded_scaler.transform(numeric_columns)\n",
    "feature_normalized = pd.DataFrame(scaled_data, columns=numeric_columns.columns)"
   ]
  },
  {
   "cell_type": "code",
   "execution_count": 80,
   "id": "b282acc5-9a31-4e84-9fca-cd61e463af7a",
   "metadata": {},
   "outputs": [
    {
     "data": {
      "text/html": [
       "<div>\n",
       "<style scoped>\n",
       "    .dataframe tbody tr th:only-of-type {\n",
       "        vertical-align: middle;\n",
       "    }\n",
       "\n",
       "    .dataframe tbody tr th {\n",
       "        vertical-align: top;\n",
       "    }\n",
       "\n",
       "    .dataframe thead th {\n",
       "        text-align: right;\n",
       "    }\n",
       "</style>\n",
       "<table border=\"1\" class=\"dataframe\">\n",
       "  <thead>\n",
       "    <tr style=\"text-align: right;\">\n",
       "      <th></th>\n",
       "      <th>pelvic_incidence</th>\n",
       "      <th>pelvic_tilt numeric</th>\n",
       "      <th>lumbar_lordosis_angle</th>\n",
       "      <th>sacral_slope</th>\n",
       "      <th>pelvic_radius</th>\n",
       "      <th>degree_spondylolisthesis</th>\n",
       "    </tr>\n",
       "  </thead>\n",
       "  <tbody>\n",
       "    <tr>\n",
       "      <th>0</th>\n",
       "      <td>0.355688</td>\n",
       "      <td>0.519900</td>\n",
       "      <td>0.229180</td>\n",
       "      <td>0.250857</td>\n",
       "      <td>0.307461</td>\n",
       "      <td>0.025148</td>\n",
       "    </tr>\n",
       "    <tr>\n",
       "      <th>1</th>\n",
       "      <td>0.124501</td>\n",
       "      <td>0.296783</td>\n",
       "      <td>0.098578</td>\n",
       "      <td>0.144629</td>\n",
       "      <td>0.476649</td>\n",
       "      <td>0.036365</td>\n",
       "    </tr>\n",
       "    <tr>\n",
       "      <th>2</th>\n",
       "      <td>0.411666</td>\n",
       "      <td>0.513932</td>\n",
       "      <td>0.322995</td>\n",
       "      <td>0.307661</td>\n",
       "      <td>0.386097</td>\n",
       "      <td>0.017523</td>\n",
       "    </tr>\n",
       "    <tr>\n",
       "      <th>3</th>\n",
       "      <td>0.416151</td>\n",
       "      <td>0.557414</td>\n",
       "      <td>0.271260</td>\n",
       "      <td>0.289436</td>\n",
       "      <td>0.341826</td>\n",
       "      <td>0.051838</td>\n",
       "    </tr>\n",
       "    <tr>\n",
       "      <th>4</th>\n",
       "      <td>0.227272</td>\n",
       "      <td>0.289479</td>\n",
       "      <td>0.128129</td>\n",
       "      <td>0.247022</td>\n",
       "      <td>0.409579</td>\n",
       "      <td>0.044173</td>\n",
       "    </tr>\n",
       "    <tr>\n",
       "      <th>...</th>\n",
       "      <td>...</td>\n",
       "      <td>...</td>\n",
       "      <td>...</td>\n",
       "      <td>...</td>\n",
       "      <td>...</td>\n",
       "      <td>...</td>\n",
       "    </tr>\n",
       "    <tr>\n",
       "      <th>1175</th>\n",
       "      <td>0.462365</td>\n",
       "      <td>0.285571</td>\n",
       "      <td>0.345310</td>\n",
       "      <td>0.053935</td>\n",
       "      <td>0.695024</td>\n",
       "      <td>0.093493</td>\n",
       "    </tr>\n",
       "    <tr>\n",
       "      <th>1176</th>\n",
       "      <td>0.363244</td>\n",
       "      <td>0.498967</td>\n",
       "      <td>0.654755</td>\n",
       "      <td>0.025830</td>\n",
       "      <td>0.481094</td>\n",
       "      <td>0.088431</td>\n",
       "    </tr>\n",
       "    <tr>\n",
       "      <th>1177</th>\n",
       "      <td>0.407349</td>\n",
       "      <td>0.508890</td>\n",
       "      <td>0.421411</td>\n",
       "      <td>0.146868</td>\n",
       "      <td>0.579098</td>\n",
       "      <td>0.050023</td>\n",
       "    </tr>\n",
       "    <tr>\n",
       "      <th>1178</th>\n",
       "      <td>0.425990</td>\n",
       "      <td>0.854509</td>\n",
       "      <td>0.865186</td>\n",
       "      <td>0.012361</td>\n",
       "      <td>0.483176</td>\n",
       "      <td>0.087631</td>\n",
       "    </tr>\n",
       "    <tr>\n",
       "      <th>1179</th>\n",
       "      <td>0.467706</td>\n",
       "      <td>0.513277</td>\n",
       "      <td>0.598289</td>\n",
       "      <td>0.035255</td>\n",
       "      <td>0.521008</td>\n",
       "      <td>0.089482</td>\n",
       "    </tr>\n",
       "  </tbody>\n",
       "</table>\n",
       "<p>1180 rows × 6 columns</p>\n",
       "</div>"
      ],
      "text/plain": [
       "      pelvic_incidence  pelvic_tilt numeric  lumbar_lordosis_angle  \\\n",
       "0             0.355688             0.519900               0.229180   \n",
       "1             0.124501             0.296783               0.098578   \n",
       "2             0.411666             0.513932               0.322995   \n",
       "3             0.416151             0.557414               0.271260   \n",
       "4             0.227272             0.289479               0.128129   \n",
       "...                ...                  ...                    ...   \n",
       "1175          0.462365             0.285571               0.345310   \n",
       "1176          0.363244             0.498967               0.654755   \n",
       "1177          0.407349             0.508890               0.421411   \n",
       "1178          0.425990             0.854509               0.865186   \n",
       "1179          0.467706             0.513277               0.598289   \n",
       "\n",
       "      sacral_slope  pelvic_radius  degree_spondylolisthesis  \n",
       "0         0.250857       0.307461                  0.025148  \n",
       "1         0.144629       0.476649                  0.036365  \n",
       "2         0.307661       0.386097                  0.017523  \n",
       "3         0.289436       0.341826                  0.051838  \n",
       "4         0.247022       0.409579                  0.044173  \n",
       "...            ...            ...                       ...  \n",
       "1175      0.053935       0.695024                  0.093493  \n",
       "1176      0.025830       0.481094                  0.088431  \n",
       "1177      0.146868       0.579098                  0.050023  \n",
       "1178      0.012361       0.483176                  0.087631  \n",
       "1179      0.035255       0.521008                  0.089482  \n",
       "\n",
       "[1180 rows x 6 columns]"
      ]
     },
     "execution_count": 80,
     "metadata": {},
     "output_type": "execute_result"
    }
   ],
   "source": [
    "feature_normalized"
   ]
  },
  {
   "cell_type": "code",
   "execution_count": 81,
   "id": "0437b356-6147-4f55-b77f-e40317b6435d",
   "metadata": {},
   "outputs": [],
   "source": [
    "##connect numerical and categorical data"
   ]
  },
  {
   "cell_type": "code",
   "execution_count": 82,
   "id": "cd2feb9a-a4c9-4ee0-a4bc-4071a30d3882",
   "metadata": {},
   "outputs": [],
   "source": [
    "predictive_features=pd.concat([feature_normalized,encode_categories],axis=1)"
   ]
  },
  {
   "cell_type": "code",
   "execution_count": 83,
   "id": "61cecff7-bdc4-4be6-912f-de72ff3660e7",
   "metadata": {},
   "outputs": [
    {
     "data": {
      "text/html": [
       "<div>\n",
       "<style scoped>\n",
       "    .dataframe tbody tr th:only-of-type {\n",
       "        vertical-align: middle;\n",
       "    }\n",
       "\n",
       "    .dataframe tbody tr th {\n",
       "        vertical-align: top;\n",
       "    }\n",
       "\n",
       "    .dataframe thead th {\n",
       "        text-align: right;\n",
       "    }\n",
       "</style>\n",
       "<table border=\"1\" class=\"dataframe\">\n",
       "  <thead>\n",
       "    <tr style=\"text-align: right;\">\n",
       "      <th></th>\n",
       "      <th>pelvic_incidence</th>\n",
       "      <th>pelvic_tilt numeric</th>\n",
       "      <th>lumbar_lordosis_angle</th>\n",
       "      <th>sacral_slope</th>\n",
       "      <th>pelvic_radius</th>\n",
       "      <th>degree_spondylolisthesis</th>\n",
       "      <th>class_encoded</th>\n",
       "    </tr>\n",
       "  </thead>\n",
       "  <tbody>\n",
       "    <tr>\n",
       "      <th>0</th>\n",
       "      <td>0.355688</td>\n",
       "      <td>0.519900</td>\n",
       "      <td>0.229180</td>\n",
       "      <td>0.250857</td>\n",
       "      <td>0.307461</td>\n",
       "      <td>0.025148</td>\n",
       "      <td>0</td>\n",
       "    </tr>\n",
       "    <tr>\n",
       "      <th>1</th>\n",
       "      <td>0.124501</td>\n",
       "      <td>0.296783</td>\n",
       "      <td>0.098578</td>\n",
       "      <td>0.144629</td>\n",
       "      <td>0.476649</td>\n",
       "      <td>0.036365</td>\n",
       "      <td>0</td>\n",
       "    </tr>\n",
       "    <tr>\n",
       "      <th>2</th>\n",
       "      <td>0.411666</td>\n",
       "      <td>0.513932</td>\n",
       "      <td>0.322995</td>\n",
       "      <td>0.307661</td>\n",
       "      <td>0.386097</td>\n",
       "      <td>0.017523</td>\n",
       "      <td>0</td>\n",
       "    </tr>\n",
       "    <tr>\n",
       "      <th>3</th>\n",
       "      <td>0.416151</td>\n",
       "      <td>0.557414</td>\n",
       "      <td>0.271260</td>\n",
       "      <td>0.289436</td>\n",
       "      <td>0.341826</td>\n",
       "      <td>0.051838</td>\n",
       "      <td>0</td>\n",
       "    </tr>\n",
       "    <tr>\n",
       "      <th>4</th>\n",
       "      <td>0.227272</td>\n",
       "      <td>0.289479</td>\n",
       "      <td>0.128129</td>\n",
       "      <td>0.247022</td>\n",
       "      <td>0.409579</td>\n",
       "      <td>0.044173</td>\n",
       "      <td>0</td>\n",
       "    </tr>\n",
       "    <tr>\n",
       "      <th>...</th>\n",
       "      <td>...</td>\n",
       "      <td>...</td>\n",
       "      <td>...</td>\n",
       "      <td>...</td>\n",
       "      <td>...</td>\n",
       "      <td>...</td>\n",
       "      <td>...</td>\n",
       "    </tr>\n",
       "    <tr>\n",
       "      <th>1175</th>\n",
       "      <td>0.462365</td>\n",
       "      <td>0.285571</td>\n",
       "      <td>0.345310</td>\n",
       "      <td>0.053935</td>\n",
       "      <td>0.695024</td>\n",
       "      <td>0.093493</td>\n",
       "      <td>0</td>\n",
       "    </tr>\n",
       "    <tr>\n",
       "      <th>1176</th>\n",
       "      <td>0.363244</td>\n",
       "      <td>0.498967</td>\n",
       "      <td>0.654755</td>\n",
       "      <td>0.025830</td>\n",
       "      <td>0.481094</td>\n",
       "      <td>0.088431</td>\n",
       "      <td>0</td>\n",
       "    </tr>\n",
       "    <tr>\n",
       "      <th>1177</th>\n",
       "      <td>0.407349</td>\n",
       "      <td>0.508890</td>\n",
       "      <td>0.421411</td>\n",
       "      <td>0.146868</td>\n",
       "      <td>0.579098</td>\n",
       "      <td>0.050023</td>\n",
       "      <td>0</td>\n",
       "    </tr>\n",
       "    <tr>\n",
       "      <th>1178</th>\n",
       "      <td>0.425990</td>\n",
       "      <td>0.854509</td>\n",
       "      <td>0.865186</td>\n",
       "      <td>0.012361</td>\n",
       "      <td>0.483176</td>\n",
       "      <td>0.087631</td>\n",
       "      <td>0</td>\n",
       "    </tr>\n",
       "    <tr>\n",
       "      <th>1179</th>\n",
       "      <td>0.467706</td>\n",
       "      <td>0.513277</td>\n",
       "      <td>0.598289</td>\n",
       "      <td>0.035255</td>\n",
       "      <td>0.521008</td>\n",
       "      <td>0.089482</td>\n",
       "      <td>0</td>\n",
       "    </tr>\n",
       "  </tbody>\n",
       "</table>\n",
       "<p>1180 rows × 7 columns</p>\n",
       "</div>"
      ],
      "text/plain": [
       "      pelvic_incidence  pelvic_tilt numeric  lumbar_lordosis_angle  \\\n",
       "0             0.355688             0.519900               0.229180   \n",
       "1             0.124501             0.296783               0.098578   \n",
       "2             0.411666             0.513932               0.322995   \n",
       "3             0.416151             0.557414               0.271260   \n",
       "4             0.227272             0.289479               0.128129   \n",
       "...                ...                  ...                    ...   \n",
       "1175          0.462365             0.285571               0.345310   \n",
       "1176          0.363244             0.498967               0.654755   \n",
       "1177          0.407349             0.508890               0.421411   \n",
       "1178          0.425990             0.854509               0.865186   \n",
       "1179          0.467706             0.513277               0.598289   \n",
       "\n",
       "      sacral_slope  pelvic_radius  degree_spondylolisthesis  class_encoded  \n",
       "0         0.250857       0.307461                  0.025148              0  \n",
       "1         0.144629       0.476649                  0.036365              0  \n",
       "2         0.307661       0.386097                  0.017523              0  \n",
       "3         0.289436       0.341826                  0.051838              0  \n",
       "4         0.247022       0.409579                  0.044173              0  \n",
       "...            ...            ...                       ...            ...  \n",
       "1175      0.053935       0.695024                  0.093493              0  \n",
       "1176      0.025830       0.481094                  0.088431              0  \n",
       "1177      0.146868       0.579098                  0.050023              0  \n",
       "1178      0.012361       0.483176                  0.087631              0  \n",
       "1179      0.035255       0.521008                  0.089482              0  \n",
       "\n",
       "[1180 rows x 7 columns]"
      ]
     },
     "execution_count": 83,
     "metadata": {},
     "output_type": "execute_result"
    }
   ],
   "source": [
    "predictive_features"
   ]
  },
  {
   "cell_type": "code",
   "execution_count": 84,
   "id": "9e7b5e22-5d46-4630-8dc8-059bdc34447a",
   "metadata": {},
   "outputs": [
    {
     "name": "stdout",
     "output_type": "stream",
     "text": [
      "Original Data Shapes: (1180, 7) (944,)\n"
     ]
    }
   ],
   "source": [
    "print(\"Original Data Shapes:\", predictive_features.shape, y_train.shape)"
   ]
  },
  {
   "cell_type": "code",
   "execution_count": 85,
   "id": "4f606c38-ad53-4293-b033-5d45a41247e2",
   "metadata": {},
   "outputs": [
    {
     "name": "stdout",
     "output_type": "stream",
     "text": [
      "Training Data Shapes: (944, 6) (944,)\n",
      "Testing Data Shapes: (236, 6) (236,)\n"
     ]
    }
   ],
   "source": [
    "print(\"Training Data Shapes:\", x_train.shape, y_train.shape)\n",
    "print(\"Testing Data Shapes:\", x_test.shape, y_test.shape)"
   ]
  },
  {
   "cell_type": "code",
   "execution_count": 86,
   "id": "6f7e4df6-2ee0-4ba4-82b1-effa93580579",
   "metadata": {},
   "outputs": [],
   "source": [
    "##Decision Tree Classifier"
   ]
  },
  {
   "cell_type": "code",
   "execution_count": 87,
   "id": "e30bf40e-83bb-4bfe-aef6-1f98ec156f5f",
   "metadata": {},
   "outputs": [
    {
     "name": "stdout",
     "output_type": "stream",
     "text": [
      "Train accuracy: 100.0\n"
     ]
    }
   ],
   "source": [
    "from sklearn.tree import DecisionTreeClassifier\n",
    "from sklearn.metrics import accuracy_score\n",
    "dt = DecisionTreeClassifier()\n",
    "dt.fit(x_train,y_train)\n",
    "dump(dt, 'models/dt.pkl')\n",
    "train_score = dt.score(x_train, y_train)\n",
    "print('Train accuracy:', train_score * 100)"
   ]
  },
  {
   "cell_type": "code",
   "execution_count": 88,
   "id": "809d50d4-d6de-4779-abde-77ce6f7ff7da",
   "metadata": {},
   "outputs": [
    {
     "name": "stdout",
     "output_type": "stream",
     "text": [
      "test Accuracy: 90.67796610169492\n"
     ]
    }
   ],
   "source": [
    "y_pred_dt = dt.predict(x_test)\n",
    "accuracy_dt = accuracy_score(y_test, y_pred_dt)\n",
    "print('test Accuracy:', accuracy_dt * 100)"
   ]
  },
  {
   "cell_type": "code",
   "execution_count": 89,
   "id": "8c2f5884-5bef-42ba-a4aa-a878d91af9d0",
   "metadata": {},
   "outputs": [],
   "source": [
    "##visualization for Decision Tree Classifier"
   ]
  },
  {
   "cell_type": "code",
   "execution_count": 90,
   "id": "3e954496-2f7e-4dcf-b13f-12293df49fdf",
   "metadata": {},
   "outputs": [
    {
     "data": {
      "image/png": "[encoded data removed]",
      "text/plain": [
       "<Figure size 640x480 with 1 Axes>"
      ]
     },
     "metadata": {},
     "output_type": "display_data"
    }
   ],
   "source": [
    "import matplotlib.pyplot as plt \n",
    "\n",
    "directory = 'models_visualization'\n",
    "if not os.path.exists(directory):\n",
    "    os.makedirs(directory)\n",
    "\n",
    "\n",
    "score_list = []\n",
    "\n",
    "for each in range(1, 15):\n",
    "    dt_classifier = DecisionTreeClassifier(max_depth=each, random_state=42)\n",
    "    dt_classifier.fit(x_train, y_train)\n",
    "    dump(dt_classifier, 'models_visualization/dt.pkl')\n",
    "    score_list.append(dt_classifier.score(x_test, y_test))\n",
    "\n",
    "# Plotting\n",
    "plt.plot(range(1, 15), score_list, marker='o')\n",
    "plt.xlabel(\"Max Depth\")\n",
    "plt.ylabel(\"Accuracy\")\n",
    "plt.title(\"Decision Tree Classifier - Accuracy vs Max Depth\")\n",
    "plt.show()"
   ]
  },
  {
   "cell_type": "code",
   "execution_count": 91,
   "id": "76bdbc19-2052-43f4-bd28-3f55b2c97c4d",
   "metadata": {},
   "outputs": [],
   "source": [
    "##RandomForestClassifier"
   ]
  },
  {
   "cell_type": "code",
   "execution_count": 92,
   "id": "687919c6-f411-4ae8-9cc9-c3f9fbe2b4b3",
   "metadata": {},
   "outputs": [
    {
     "name": "stdout",
     "output_type": "stream",
     "text": [
      "RandomForestClassifier Train accuracy: 100.0\n"
     ]
    }
   ],
   "source": [
    "from sklearn.ensemble import RandomForestClassifier\n",
    "\n",
    "RF = RandomForestClassifier()\n",
    "RF.fit(x_train, y_train)\n",
    "dump(RF, 'models/RF.pkl')\n",
    "train_score = RF.score(x_train, y_train)\n",
    "print('RandomForestClassifier Train accuracy:', train_score * 100)"
   ]
  },
  {
   "cell_type": "code",
   "execution_count": 93,
   "id": "36917f0b-0d41-47ea-8c25-8864dd44a521",
   "metadata": {},
   "outputs": [
    {
     "name": "stdout",
     "output_type": "stream",
     "text": [
      "RandomForestClassifier test Accuracy: 93.22033898305084\n"
     ]
    }
   ],
   "source": [
    "\n",
    "\n",
    "y_pred = RF.predict(x_test)\n",
    "accuracy = accuracy_score(y_test, y_pred)\n",
    "print('RandomForestClassifier test Accuracy:', accuracy * 100)\n",
    "\n",
    "\n"
   ]
  },
  {
   "cell_type": "code",
   "execution_count": 94,
   "id": "813fe5ff-f059-4886-836b-19ff9b2fd0fb",
   "metadata": {},
   "outputs": [],
   "source": [
    "##visualization for random forest classifier"
   ]
  },
  {
   "cell_type": "code",
   "execution_count": 95,
   "id": "ede36138-7aa0-4447-bf1d-9a3fd3a2500b",
   "metadata": {},
   "outputs": [
    {
     "data": {
      "image/png": "[encoded data removed]",
      "text/plain": [
       "<Figure size 640x480 with 1 Axes>"
      ]
     },
     "metadata": {},
     "output_type": "display_data"
    }
   ],
   "source": [
    "score_list = []\n",
    "\n",
    "for each in range(1, 15):\n",
    "    rf_classifier = RandomForestClassifier(n_estimators=100, max_depth=each, random_state=42)\n",
    "    rf_classifier.fit(x_train, y_train)\n",
    "    dump(rf_classifier, 'models_visualization/RF.pkl')\n",
    "    score_list.append(rf_classifier.score(x_test, y_test))\n",
    "\n",
    "plt.plot(range(1, 15), score_list, marker='o')\n",
    "plt.xlabel(\"Max Depth\")\n",
    "plt.ylabel(\"Accuracy\")\n",
    "plt.title(\"Random Forest Classifier - Accuracy vs Max Depth\")\n",
    "plt.show()"
   ]
  },
  {
   "cell_type": "code",
   "execution_count": 96,
   "id": "1998a4a5-6ac3-4902-bcb9-74b3bac4291a",
   "metadata": {},
   "outputs": [],
   "source": [
    "##KNeighborsClassifier"
   ]
  },
  {
   "cell_type": "code",
   "execution_count": 97,
   "id": "ddc005e2-c4a2-4482-b521-19c95def3e73",
   "metadata": {},
   "outputs": [
    {
     "name": "stdout",
     "output_type": "stream",
     "text": [
      "KNeighborsClassifier Train accuracy: 93.85593220338984\n"
     ]
    }
   ],
   "source": [
    "from sklearn.neighbors import KNeighborsClassifier\n",
    "\n",
    "knn = KNeighborsClassifier()\n",
    "knn.fit(x_train, y_train)\n",
    "dump(knn, 'models/KNN.pkl')\n",
    "train_score = knn.score(x_train, y_train)\n",
    "print('KNeighborsClassifier Train accuracy:', train_score * 100)"
   ]
  },
  {
   "cell_type": "code",
   "execution_count": 98,
   "id": "268c50a2-99cd-4b37-8e73-f350fbcdc74e",
   "metadata": {},
   "outputs": [
    {
     "name": "stdout",
     "output_type": "stream",
     "text": [
      "KNeighborsClassifier test Accuracy: 94.0677966101695\n"
     ]
    }
   ],
   "source": [
    "y_pred = knn .predict(x_test)\n",
    "accuracy = accuracy_score(y_test, y_pred)\n",
    "print('KNeighborsClassifier test Accuracy:', accuracy * 100)"
   ]
  },
  {
   "cell_type": "code",
   "execution_count": 99,
   "id": "764c593c-c75f-4940-8d74-046717f357f3",
   "metadata": {},
   "outputs": [],
   "source": [
    "##visualization for KNN classifier"
   ]
  },
  {
   "cell_type": "code",
   "execution_count": 100,
   "id": "a2f1f5d1-4e9c-4cc5-b8ec-15f334b7e6fa",
   "metadata": {},
   "outputs": [
    {
     "data": {
      "image/png": "[encoded data removed]",
      "text/plain": [
       "<Figure size 640x480 with 1 Axes>"
      ]
     },
     "metadata": {},
     "output_type": "display_data"
    }
   ],
   "source": [
    "score_list=[]\n",
    "\n",
    "for each in range(1,15):\n",
    "    knn2=KNeighborsClassifier(n_neighbors=each)\n",
    "    knn2.fit(x_train, y_train)\n",
    "    dump(knn2, 'models_visualization/KNN.pkl')\n",
    "    score_list.append(knn2.score(x_test,y_test))\n",
    "    \n",
    "plt.plot(range(1,15),score_list,marker='o')\n",
    "plt.xlabel(\"K_values\")\n",
    "plt.ylabel(\"Accuracy\")\n",
    "plt.title(\"KNeighborsClassifier - Accuracy vs K_values\")\n",
    "plt.show()"
   ]
  },
  {
   "cell_type": "code",
   "execution_count": 101,
   "id": "f8ca5790-e904-44aa-b962-aabe1ba74559",
   "metadata": {},
   "outputs": [],
   "source": [
    "##support vector machine classifier"
   ]
  },
  {
   "cell_type": "code",
   "execution_count": 102,
   "id": "59c95de4-4d89-4cd5-955d-d6610da4c312",
   "metadata": {},
   "outputs": [
    {
     "name": "stdout",
     "output_type": "stream",
     "text": [
      "SVM Train Accuracy: 90.78389830508475\n"
     ]
    }
   ],
   "source": [
    "from sklearn.svm import SVC\n",
    "\n",
    "svm_classifier = SVC()\n",
    "svm_classifier.fit(x_train, y_train)\n",
    "dump(svm_classifier, 'models/SVM.pkl')\n",
    "train_score = svm_classifier.score(x_train, y_train)\n",
    "print('SVM Train Accuracy:', train_score * 100)"
   ]
  },
  {
   "cell_type": "code",
   "execution_count": 103,
   "id": "74a84146-e0ed-46ff-8737-fced5e36a6c5",
   "metadata": {},
   "outputs": [
    {
     "name": "stdout",
     "output_type": "stream",
     "text": [
      "SVM Classifier test Accuracy: 91.94915254237289\n"
     ]
    }
   ],
   "source": [
    "y_pred = svm_classifier.predict(x_test)\n",
    "accuracy = accuracy_score(y_test, y_pred)\n",
    "print('SVM Classifier test Accuracy:', accuracy * 100)\n",
    "\n"
   ]
  },
  {
   "cell_type": "code",
   "execution_count": 104,
   "id": "26f0e3d0-8264-4f3c-9616-b21649f107c5",
   "metadata": {},
   "outputs": [],
   "source": [
    "##visualization for SVM classifier"
   ]
  },
  {
   "cell_type": "code",
   "execution_count": 105,
   "id": "f27fa10d-bb6e-4428-8548-c86fce4147d2",
   "metadata": {},
   "outputs": [
    {
     "data": {
      "image/png": "[encoded data removed]",
      "text/plain": [
       "<Figure size 640x480 with 1 Axes>"
      ]
     },
     "metadata": {},
     "output_type": "display_data"
    }
   ],
   "source": [
    "score_list = []\n",
    "\n",
    "for each in range(1, 15):\n",
    "    svm_classifier = SVC(C=each, kernel='linear') \n",
    "    svm_classifier.fit(x_train, y_train)\n",
    "    dump(svm_classifier, 'models_visualization/SVM.pkl')\n",
    "    score_list.append(svm_classifier.score(x_test, y_test))\n",
    "\n",
    "# Line plot\n",
    "plt.plot(range(1, 15), score_list, marker='o')\n",
    "plt.xlabel(\"Parameter Values\")\n",
    "plt.ylabel(\"Accuracy\")\n",
    "plt.title(\"Accuracy for Different Parameter Values in SVM\")\n",
    "plt.grid(True)\n",
    "plt.show()"
   ]
  },
  {
   "cell_type": "code",
   "execution_count": null,
   "id": "d1503ef9-db0d-4216-ad27-1cc3b1ba4075",
   "metadata": {},
   "outputs": [],
   "source": []
  },
  {
   "cell_type": "code",
   "execution_count": null,
   "id": "6ee19bbf-5588-452e-a88c-c028eafb70ce",
   "metadata": {},
   "outputs": [],
   "source": []
  },
  {
   "cell_type": "code",
   "execution_count": null,
   "id": "c8d973b7-e8af-4163-967d-072214911bd3",
   "metadata": {},
   "outputs": [],
   "source": []
  },
  {
   "cell_type": "code",
   "execution_count": null,
   "id": "80b7488a-16a5-4e12-b35f-52a4f4d2a4f2",
   "metadata": {},
   "outputs": [],
   "source": []
  },
  {
   "cell_type": "code",
   "execution_count": null,
   "id": "6480a65c-3c9d-4050-b5ed-782666fcc829",
   "metadata": {},
   "outputs": [],
   "source": []
  }
 ],
 "metadata": {
  "kernelspec": {
   "display_name": "Python 3 (ipykernel)",
   "language": "python",
   "name": "python3"
  },
  "language_info": {
   "codemirror_mode": {
    "name": "ipython",
    "version": 3
   },
   "file_extension": ".py",
   "mimetype": "text/x-python",
   "name": "python",
   "nbconvert_exporter": "python",
   "pygments_lexer": "ipython3",
   "version": "3.11.5"
  }
 },
 "nbformat": 4,
 "nbformat_minor": 5
}
