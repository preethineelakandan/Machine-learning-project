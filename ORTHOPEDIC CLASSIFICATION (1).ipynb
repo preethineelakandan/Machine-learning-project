{
 "cells": [
  {
   "cell_type": "markdown",
   "id": "510652bc-1902-4136-976e-3d7e26edb603",
   "metadata": {},
   "source": [
    "ORTHOPEDIC CLASSIFICATION\n"
   ]
  },
  {
   "cell_type": "code",
   "execution_count": 40,
   "id": "f7029aec-a685-41af-85b9-657503c8319f",
   "metadata": {},
   "outputs": [],
   "source": [
    "#Predictive Modeling for Enhanced Orthopedic Outcomes"
   ]
  },
  {
   "cell_type": "code",
   "execution_count": 41,
   "id": "bc5f1c89-1ec8-483a-a1f2-eada3c082aff",
   "metadata": {},
   "outputs": [],
   "source": [
    "import pandas as pd \n",
    "import numpy as np"
   ]
  },
  {
   "cell_type": "code",
   "execution_count": 42,
   "id": "7f75e8b5-1ffc-4ed7-98fc-2192b80183a8",
   "metadata": {},
   "outputs": [
    {
     "data": {
      "text/html": [
       "<div>\n",
       "<style scoped>\n",
       "    .dataframe tbody tr th:only-of-type {\n",
       "        vertical-align: middle;\n",
       "    }\n",
       "\n",
       "    .dataframe tbody tr th {\n",
       "        vertical-align: top;\n",
       "    }\n",
       "\n",
       "    .dataframe thead th {\n",
       "        text-align: right;\n",
       "    }\n",
       "</style>\n",
       "<table border=\"1\" class=\"dataframe\">\n",
       "  <thead>\n",
       "    <tr style=\"text-align: right;\">\n",
       "      <th></th>\n",
       "      <th>pelvic_incidence</th>\n",
       "      <th>pelvic_tilt numeric</th>\n",
       "      <th>lumbar_lordosis_angle</th>\n",
       "      <th>sacral_slope</th>\n",
       "      <th>pelvic_radius</th>\n",
       "      <th>degree_spondylolisthesis</th>\n",
       "      <th>class</th>\n",
       "    </tr>\n",
       "  </thead>\n",
       "  <tbody>\n",
       "    <tr>\n",
       "      <th>0</th>\n",
       "      <td>63.027817</td>\n",
       "      <td>22.552586</td>\n",
       "      <td>39.609117</td>\n",
       "      <td>40.475232</td>\n",
       "      <td>98.672917</td>\n",
       "      <td>-0.254400</td>\n",
       "      <td>Abnormal</td>\n",
       "    </tr>\n",
       "    <tr>\n",
       "      <th>1</th>\n",
       "      <td>39.056951</td>\n",
       "      <td>10.060991</td>\n",
       "      <td>25.015378</td>\n",
       "      <td>28.995960</td>\n",
       "      <td>114.405425</td>\n",
       "      <td>4.564259</td>\n",
       "      <td>Abnormal</td>\n",
       "    </tr>\n",
       "    <tr>\n",
       "      <th>2</th>\n",
       "      <td>68.832021</td>\n",
       "      <td>22.218482</td>\n",
       "      <td>50.092194</td>\n",
       "      <td>46.613539</td>\n",
       "      <td>105.985135</td>\n",
       "      <td>-3.530317</td>\n",
       "      <td>Abnormal</td>\n",
       "    </tr>\n",
       "    <tr>\n",
       "      <th>3</th>\n",
       "      <td>69.297008</td>\n",
       "      <td>24.652878</td>\n",
       "      <td>44.311238</td>\n",
       "      <td>44.644130</td>\n",
       "      <td>101.868495</td>\n",
       "      <td>11.211523</td>\n",
       "      <td>Abnormal</td>\n",
       "    </tr>\n",
       "    <tr>\n",
       "      <th>4</th>\n",
       "      <td>49.712859</td>\n",
       "      <td>9.652075</td>\n",
       "      <td>28.317406</td>\n",
       "      <td>40.060784</td>\n",
       "      <td>108.168725</td>\n",
       "      <td>7.918501</td>\n",
       "      <td>Abnormal</td>\n",
       "    </tr>\n",
       "    <tr>\n",
       "      <th>...</th>\n",
       "      <td>...</td>\n",
       "      <td>...</td>\n",
       "      <td>...</td>\n",
       "      <td>...</td>\n",
       "      <td>...</td>\n",
       "      <td>...</td>\n",
       "      <td>...</td>\n",
       "    </tr>\n",
       "    <tr>\n",
       "      <th>1175</th>\n",
       "      <td>74.088795</td>\n",
       "      <td>9.433234</td>\n",
       "      <td>52.585800</td>\n",
       "      <td>19.195300</td>\n",
       "      <td>134.711772</td>\n",
       "      <td>29.106575</td>\n",
       "      <td>Abnormal</td>\n",
       "    </tr>\n",
       "    <tr>\n",
       "      <th>1176</th>\n",
       "      <td>63.811232</td>\n",
       "      <td>21.380645</td>\n",
       "      <td>87.163863</td>\n",
       "      <td>16.158201</td>\n",
       "      <td>114.818751</td>\n",
       "      <td>26.931841</td>\n",
       "      <td>Abnormal</td>\n",
       "    </tr>\n",
       "    <tr>\n",
       "      <th>1177</th>\n",
       "      <td>68.384311</td>\n",
       "      <td>21.936186</td>\n",
       "      <td>61.089501</td>\n",
       "      <td>29.237841</td>\n",
       "      <td>123.932010</td>\n",
       "      <td>10.431972</td>\n",
       "      <td>Abnormal</td>\n",
       "    </tr>\n",
       "    <tr>\n",
       "      <th>1178</th>\n",
       "      <td>70.317179</td>\n",
       "      <td>41.286305</td>\n",
       "      <td>110.677897</td>\n",
       "      <td>14.702656</td>\n",
       "      <td>115.012334</td>\n",
       "      <td>26.588100</td>\n",
       "      <td>Abnormal</td>\n",
       "    </tr>\n",
       "    <tr>\n",
       "      <th>1179</th>\n",
       "      <td>74.642516</td>\n",
       "      <td>22.181798</td>\n",
       "      <td>80.854286</td>\n",
       "      <td>17.176716</td>\n",
       "      <td>118.530327</td>\n",
       "      <td>27.383213</td>\n",
       "      <td>Abnormal</td>\n",
       "    </tr>\n",
       "  </tbody>\n",
       "</table>\n",
       "<p>1180 rows × 7 columns</p>\n",
       "</div>"
      ],
      "text/plain": [
       "      pelvic_incidence  pelvic_tilt numeric  lumbar_lordosis_angle  \\\n",
       "0            63.027817            22.552586              39.609117   \n",
       "1            39.056951            10.060991              25.015378   \n",
       "2            68.832021            22.218482              50.092194   \n",
       "3            69.297008            24.652878              44.311238   \n",
       "4            49.712859             9.652075              28.317406   \n",
       "...                ...                  ...                    ...   \n",
       "1175         74.088795             9.433234              52.585800   \n",
       "1176         63.811232            21.380645              87.163863   \n",
       "1177         68.384311            21.936186              61.089501   \n",
       "1178         70.317179            41.286305             110.677897   \n",
       "1179         74.642516            22.181798              80.854286   \n",
       "\n",
       "      sacral_slope  pelvic_radius  degree_spondylolisthesis     class  \n",
       "0        40.475232      98.672917                 -0.254400  Abnormal  \n",
       "1        28.995960     114.405425                  4.564259  Abnormal  \n",
       "2        46.613539     105.985135                 -3.530317  Abnormal  \n",
       "3        44.644130     101.868495                 11.211523  Abnormal  \n",
       "4        40.060784     108.168725                  7.918501  Abnormal  \n",
       "...            ...            ...                       ...       ...  \n",
       "1175     19.195300     134.711772                 29.106575  Abnormal  \n",
       "1176     16.158201     114.818751                 26.931841  Abnormal  \n",
       "1177     29.237841     123.932010                 10.431972  Abnormal  \n",
       "1178     14.702656     115.012334                 26.588100  Abnormal  \n",
       "1179     17.176716     118.530327                 27.383213  Abnormal  \n",
       "\n",
       "[1180 rows x 7 columns]"
      ]
     },
     "execution_count": 42,
     "metadata": {},
     "output_type": "execute_result"
    }
   ],
   "source": [
    "data = pd.read_csv(\"C:\\\\Users\\\\neela\\\\OneDrive\\\\data\\\\orthopedic dataset.csv\")\n",
    "data"
   ]
  },
  {
   "cell_type": "code",
   "execution_count": 43,
   "id": "5966f38e-ad45-4aad-98d8-c80dcb985104",
   "metadata": {},
   "outputs": [
    {
     "name": "stdout",
     "output_type": "stream",
     "text": [
      "<class 'pandas.core.frame.DataFrame'>\n",
      "RangeIndex: 1180 entries, 0 to 1179\n",
      "Data columns (total 7 columns):\n",
      " #   Column                    Non-Null Count  Dtype  \n",
      "---  ------                    --------------  -----  \n",
      " 0   pelvic_incidence          1180 non-null   float64\n",
      " 1   pelvic_tilt numeric       1180 non-null   float64\n",
      " 2   lumbar_lordosis_angle     1180 non-null   float64\n",
      " 3   sacral_slope              1180 non-null   float64\n",
      " 4   pelvic_radius             1180 non-null   float64\n",
      " 5   degree_spondylolisthesis  1180 non-null   float64\n",
      " 6   class                     1180 non-null   object \n",
      "dtypes: float64(6), object(1)\n",
      "memory usage: 64.7+ KB\n"
     ]
    }
   ],
   "source": [
    "data.info()"
   ]
  },
  {
   "cell_type": "code",
   "execution_count": 44,
   "id": "f8151e04-0b9c-493a-89b1-c0bcb336e15c",
   "metadata": {},
   "outputs": [],
   "source": [
    "##Data Label Encoding for Binary Classification\n",
    "data[\"class\"]=[1 if each ==\"Abnormal\" else 0 for each in data[\"class\"] ]"
   ]
  },
  {
   "cell_type": "code",
   "execution_count": 45,
   "id": "58441e35-f97c-42cd-8e47-7b9d21d07f6a",
   "metadata": {},
   "outputs": [
    {
     "data": {
      "text/html": [
       "<div>\n",
       "<style scoped>\n",
       "    .dataframe tbody tr th:only-of-type {\n",
       "        vertical-align: middle;\n",
       "    }\n",
       "\n",
       "    .dataframe tbody tr th {\n",
       "        vertical-align: top;\n",
       "    }\n",
       "\n",
       "    .dataframe thead th {\n",
       "        text-align: right;\n",
       "    }\n",
       "</style>\n",
       "<table border=\"1\" class=\"dataframe\">\n",
       "  <thead>\n",
       "    <tr style=\"text-align: right;\">\n",
       "      <th></th>\n",
       "      <th>pelvic_incidence</th>\n",
       "      <th>pelvic_tilt numeric</th>\n",
       "      <th>lumbar_lordosis_angle</th>\n",
       "      <th>sacral_slope</th>\n",
       "      <th>pelvic_radius</th>\n",
       "      <th>degree_spondylolisthesis</th>\n",
       "      <th>class</th>\n",
       "    </tr>\n",
       "  </thead>\n",
       "  <tbody>\n",
       "    <tr>\n",
       "      <th>0</th>\n",
       "      <td>63.027817</td>\n",
       "      <td>22.552586</td>\n",
       "      <td>39.609117</td>\n",
       "      <td>40.475232</td>\n",
       "      <td>98.672917</td>\n",
       "      <td>-0.254400</td>\n",
       "      <td>1</td>\n",
       "    </tr>\n",
       "    <tr>\n",
       "      <th>1</th>\n",
       "      <td>39.056951</td>\n",
       "      <td>10.060991</td>\n",
       "      <td>25.015378</td>\n",
       "      <td>28.995960</td>\n",
       "      <td>114.405425</td>\n",
       "      <td>4.564259</td>\n",
       "      <td>1</td>\n",
       "    </tr>\n",
       "    <tr>\n",
       "      <th>2</th>\n",
       "      <td>68.832021</td>\n",
       "      <td>22.218482</td>\n",
       "      <td>50.092194</td>\n",
       "      <td>46.613539</td>\n",
       "      <td>105.985135</td>\n",
       "      <td>-3.530317</td>\n",
       "      <td>1</td>\n",
       "    </tr>\n",
       "    <tr>\n",
       "      <th>3</th>\n",
       "      <td>69.297008</td>\n",
       "      <td>24.652878</td>\n",
       "      <td>44.311238</td>\n",
       "      <td>44.644130</td>\n",
       "      <td>101.868495</td>\n",
       "      <td>11.211523</td>\n",
       "      <td>1</td>\n",
       "    </tr>\n",
       "    <tr>\n",
       "      <th>4</th>\n",
       "      <td>49.712859</td>\n",
       "      <td>9.652075</td>\n",
       "      <td>28.317406</td>\n",
       "      <td>40.060784</td>\n",
       "      <td>108.168725</td>\n",
       "      <td>7.918501</td>\n",
       "      <td>1</td>\n",
       "    </tr>\n",
       "  </tbody>\n",
       "</table>\n",
       "</div>"
      ],
      "text/plain": [
       "   pelvic_incidence  pelvic_tilt numeric  lumbar_lordosis_angle  sacral_slope  \\\n",
       "0         63.027817            22.552586              39.609117     40.475232   \n",
       "1         39.056951            10.060991              25.015378     28.995960   \n",
       "2         68.832021            22.218482              50.092194     46.613539   \n",
       "3         69.297008            24.652878              44.311238     44.644130   \n",
       "4         49.712859             9.652075              28.317406     40.060784   \n",
       "\n",
       "   pelvic_radius  degree_spondylolisthesis  class  \n",
       "0      98.672917                 -0.254400      1  \n",
       "1     114.405425                  4.564259      1  \n",
       "2     105.985135                 -3.530317      1  \n",
       "3     101.868495                 11.211523      1  \n",
       "4     108.168725                  7.918501      1  "
      ]
     },
     "execution_count": 45,
     "metadata": {},
     "output_type": "execute_result"
    }
   ],
   "source": [
    "data.head()"
   ]
  },
  {
   "cell_type": "code",
   "execution_count": 46,
   "id": "ee0a1a7d-b11d-4d86-87b2-ce0181bd9046",
   "metadata": {},
   "outputs": [],
   "source": [
    "x_data=data.drop(['class'],axis=1)\n",
    "y_data=data['class']"
   ]
  },
  {
   "cell_type": "code",
   "execution_count": 47,
   "id": "22469235-75e9-4f2d-9481-110690f5164c",
   "metadata": {},
   "outputs": [
    {
     "data": {
      "text/html": [
       "<div>\n",
       "<style scoped>\n",
       "    .dataframe tbody tr th:only-of-type {\n",
       "        vertical-align: middle;\n",
       "    }\n",
       "\n",
       "    .dataframe tbody tr th {\n",
       "        vertical-align: top;\n",
       "    }\n",
       "\n",
       "    .dataframe thead th {\n",
       "        text-align: right;\n",
       "    }\n",
       "</style>\n",
       "<table border=\"1\" class=\"dataframe\">\n",
       "  <thead>\n",
       "    <tr style=\"text-align: right;\">\n",
       "      <th></th>\n",
       "      <th>pelvic_incidence</th>\n",
       "      <th>pelvic_tilt numeric</th>\n",
       "      <th>lumbar_lordosis_angle</th>\n",
       "      <th>sacral_slope</th>\n",
       "      <th>pelvic_radius</th>\n",
       "      <th>degree_spondylolisthesis</th>\n",
       "    </tr>\n",
       "  </thead>\n",
       "  <tbody>\n",
       "    <tr>\n",
       "      <th>0</th>\n",
       "      <td>63.027817</td>\n",
       "      <td>22.552586</td>\n",
       "      <td>39.609117</td>\n",
       "      <td>40.475232</td>\n",
       "      <td>98.672917</td>\n",
       "      <td>-0.254400</td>\n",
       "    </tr>\n",
       "    <tr>\n",
       "      <th>1</th>\n",
       "      <td>39.056951</td>\n",
       "      <td>10.060991</td>\n",
       "      <td>25.015378</td>\n",
       "      <td>28.995960</td>\n",
       "      <td>114.405425</td>\n",
       "      <td>4.564259</td>\n",
       "    </tr>\n",
       "    <tr>\n",
       "      <th>2</th>\n",
       "      <td>68.832021</td>\n",
       "      <td>22.218482</td>\n",
       "      <td>50.092194</td>\n",
       "      <td>46.613539</td>\n",
       "      <td>105.985135</td>\n",
       "      <td>-3.530317</td>\n",
       "    </tr>\n",
       "    <tr>\n",
       "      <th>3</th>\n",
       "      <td>69.297008</td>\n",
       "      <td>24.652878</td>\n",
       "      <td>44.311238</td>\n",
       "      <td>44.644130</td>\n",
       "      <td>101.868495</td>\n",
       "      <td>11.211523</td>\n",
       "    </tr>\n",
       "    <tr>\n",
       "      <th>4</th>\n",
       "      <td>49.712859</td>\n",
       "      <td>9.652075</td>\n",
       "      <td>28.317406</td>\n",
       "      <td>40.060784</td>\n",
       "      <td>108.168725</td>\n",
       "      <td>7.918501</td>\n",
       "    </tr>\n",
       "    <tr>\n",
       "      <th>...</th>\n",
       "      <td>...</td>\n",
       "      <td>...</td>\n",
       "      <td>...</td>\n",
       "      <td>...</td>\n",
       "      <td>...</td>\n",
       "      <td>...</td>\n",
       "    </tr>\n",
       "    <tr>\n",
       "      <th>1175</th>\n",
       "      <td>74.088795</td>\n",
       "      <td>9.433234</td>\n",
       "      <td>52.585800</td>\n",
       "      <td>19.195300</td>\n",
       "      <td>134.711772</td>\n",
       "      <td>29.106575</td>\n",
       "    </tr>\n",
       "    <tr>\n",
       "      <th>1176</th>\n",
       "      <td>63.811232</td>\n",
       "      <td>21.380645</td>\n",
       "      <td>87.163863</td>\n",
       "      <td>16.158201</td>\n",
       "      <td>114.818751</td>\n",
       "      <td>26.931841</td>\n",
       "    </tr>\n",
       "    <tr>\n",
       "      <th>1177</th>\n",
       "      <td>68.384311</td>\n",
       "      <td>21.936186</td>\n",
       "      <td>61.089501</td>\n",
       "      <td>29.237841</td>\n",
       "      <td>123.932010</td>\n",
       "      <td>10.431972</td>\n",
       "    </tr>\n",
       "    <tr>\n",
       "      <th>1178</th>\n",
       "      <td>70.317179</td>\n",
       "      <td>41.286305</td>\n",
       "      <td>110.677897</td>\n",
       "      <td>14.702656</td>\n",
       "      <td>115.012334</td>\n",
       "      <td>26.588100</td>\n",
       "    </tr>\n",
       "    <tr>\n",
       "      <th>1179</th>\n",
       "      <td>74.642516</td>\n",
       "      <td>22.181798</td>\n",
       "      <td>80.854286</td>\n",
       "      <td>17.176716</td>\n",
       "      <td>118.530327</td>\n",
       "      <td>27.383213</td>\n",
       "    </tr>\n",
       "  </tbody>\n",
       "</table>\n",
       "<p>1180 rows × 6 columns</p>\n",
       "</div>"
      ],
      "text/plain": [
       "      pelvic_incidence  pelvic_tilt numeric  lumbar_lordosis_angle  \\\n",
       "0            63.027817            22.552586              39.609117   \n",
       "1            39.056951            10.060991              25.015378   \n",
       "2            68.832021            22.218482              50.092194   \n",
       "3            69.297008            24.652878              44.311238   \n",
       "4            49.712859             9.652075              28.317406   \n",
       "...                ...                  ...                    ...   \n",
       "1175         74.088795             9.433234              52.585800   \n",
       "1176         63.811232            21.380645              87.163863   \n",
       "1177         68.384311            21.936186              61.089501   \n",
       "1178         70.317179            41.286305             110.677897   \n",
       "1179         74.642516            22.181798              80.854286   \n",
       "\n",
       "      sacral_slope  pelvic_radius  degree_spondylolisthesis  \n",
       "0        40.475232      98.672917                 -0.254400  \n",
       "1        28.995960     114.405425                  4.564259  \n",
       "2        46.613539     105.985135                 -3.530317  \n",
       "3        44.644130     101.868495                 11.211523  \n",
       "4        40.060784     108.168725                  7.918501  \n",
       "...            ...            ...                       ...  \n",
       "1175     19.195300     134.711772                 29.106575  \n",
       "1176     16.158201     114.818751                 26.931841  \n",
       "1177     29.237841     123.932010                 10.431972  \n",
       "1178     14.702656     115.012334                 26.588100  \n",
       "1179     17.176716     118.530327                 27.383213  \n",
       "\n",
       "[1180 rows x 6 columns]"
      ]
     },
     "execution_count": 47,
     "metadata": {},
     "output_type": "execute_result"
    }
   ],
   "source": [
    "x_data"
   ]
  },
  {
   "cell_type": "code",
   "execution_count": 48,
   "id": "09fe2962-646f-45aa-a99d-b7ec228f12cb",
   "metadata": {},
   "outputs": [],
   "source": [
    "##Scaling and Saving Scaler for Preprocessing"
   ]
  },
  {
   "cell_type": "code",
   "execution_count": 49,
   "id": "4838c37c-5bb4-4468-810e-20e69d60fb02",
   "metadata": {},
   "outputs": [
    {
     "data": {
      "text/plain": [
       "['models/scaler/min_max_scaler.pkl']"
      ]
     },
     "execution_count": 49,
     "metadata": {},
     "output_type": "execute_result"
    }
   ],
   "source": [
    "from sklearn.preprocessing import MinMaxScaler\n",
    "import os\n",
    "from joblib import dump, load\n",
    "scaler = MinMaxScaler()\n",
    "x_scaled = scaler.fit_transform(x_data)\n",
    "output_directory = 'models/scaler/'\n",
    "os.makedirs(output_directory, exist_ok=True)\n",
    "scaler_filename = os.path.join(output_directory, 'min_max_scaler.pkl')\n",
    "dump(scaler, scaler_filename)"
   ]
  },
  {
   "cell_type": "code",
   "execution_count": 50,
   "id": "bb22ea4e-6330-4759-bc21-0a159224bd24",
   "metadata": {},
   "outputs": [
    {
     "data": {
      "text/html": [
       "<div>\n",
       "<style scoped>\n",
       "    .dataframe tbody tr th:only-of-type {\n",
       "        vertical-align: middle;\n",
       "    }\n",
       "\n",
       "    .dataframe tbody tr th {\n",
       "        vertical-align: top;\n",
       "    }\n",
       "\n",
       "    .dataframe thead th {\n",
       "        text-align: right;\n",
       "    }\n",
       "</style>\n",
       "<table border=\"1\" class=\"dataframe\">\n",
       "  <thead>\n",
       "    <tr style=\"text-align: right;\">\n",
       "      <th></th>\n",
       "      <th>pelvic_incidence</th>\n",
       "      <th>pelvic_tilt numeric</th>\n",
       "      <th>lumbar_lordosis_angle</th>\n",
       "      <th>sacral_slope</th>\n",
       "      <th>pelvic_radius</th>\n",
       "      <th>degree_spondylolisthesis</th>\n",
       "    </tr>\n",
       "  </thead>\n",
       "  <tbody>\n",
       "    <tr>\n",
       "      <th>0</th>\n",
       "      <td>0.355688</td>\n",
       "      <td>0.519900</td>\n",
       "      <td>0.229180</td>\n",
       "      <td>0.250857</td>\n",
       "      <td>0.307461</td>\n",
       "      <td>0.025148</td>\n",
       "    </tr>\n",
       "    <tr>\n",
       "      <th>1</th>\n",
       "      <td>0.124501</td>\n",
       "      <td>0.296783</td>\n",
       "      <td>0.098578</td>\n",
       "      <td>0.144629</td>\n",
       "      <td>0.476649</td>\n",
       "      <td>0.036365</td>\n",
       "    </tr>\n",
       "    <tr>\n",
       "      <th>2</th>\n",
       "      <td>0.411666</td>\n",
       "      <td>0.513932</td>\n",
       "      <td>0.322995</td>\n",
       "      <td>0.307661</td>\n",
       "      <td>0.386097</td>\n",
       "      <td>0.017523</td>\n",
       "    </tr>\n",
       "    <tr>\n",
       "      <th>3</th>\n",
       "      <td>0.416151</td>\n",
       "      <td>0.557414</td>\n",
       "      <td>0.271260</td>\n",
       "      <td>0.289436</td>\n",
       "      <td>0.341826</td>\n",
       "      <td>0.051838</td>\n",
       "    </tr>\n",
       "    <tr>\n",
       "      <th>4</th>\n",
       "      <td>0.227272</td>\n",
       "      <td>0.289479</td>\n",
       "      <td>0.128129</td>\n",
       "      <td>0.247022</td>\n",
       "      <td>0.409579</td>\n",
       "      <td>0.044173</td>\n",
       "    </tr>\n",
       "  </tbody>\n",
       "</table>\n",
       "</div>"
      ],
      "text/plain": [
       "   pelvic_incidence  pelvic_tilt numeric  lumbar_lordosis_angle  sacral_slope  \\\n",
       "0          0.355688             0.519900               0.229180      0.250857   \n",
       "1          0.124501             0.296783               0.098578      0.144629   \n",
       "2          0.411666             0.513932               0.322995      0.307661   \n",
       "3          0.416151             0.557414               0.271260      0.289436   \n",
       "4          0.227272             0.289479               0.128129      0.247022   \n",
       "\n",
       "   pelvic_radius  degree_spondylolisthesis  \n",
       "0       0.307461                  0.025148  \n",
       "1       0.476649                  0.036365  \n",
       "2       0.386097                  0.017523  \n",
       "3       0.341826                  0.051838  \n",
       "4       0.409579                  0.044173  "
      ]
     },
     "execution_count": 50,
     "metadata": {},
     "output_type": "execute_result"
    }
   ],
   "source": [
    "x_data_normalized = pd.DataFrame(x_scaled, columns=x_data.columns)\n",
    "x_data_normalized.head()"
   ]
  },
  {
   "cell_type": "code",
   "execution_count": 51,
   "id": "fb7369e5-0820-492a-8f10-a43f0741929f",
   "metadata": {},
   "outputs": [],
   "source": [
    "##Splitting data"
   ]
  },
  {
   "cell_type": "code",
   "execution_count": 52,
   "id": "f8de85fe-b37c-4700-bd92-94ad0ee54115",
   "metadata": {},
   "outputs": [],
   "source": [
    "from sklearn.model_selection import train_test_split\n",
    "\n",
    "x_train, x_test, y_train, y_test = train_test_split(x_data,y_data,test_size = 0.2,random_state=42)\n",
    "\n",
    "output_directory = \"data\"\n",
    "os.makedirs(output_directory, exist_ok=True)\n",
    "x_train.to_csv(os.path.join(output_directory, \"x_train.csv\"), index=False)\n",
    "x_test.to_csv(os.path.join(output_directory, \"x_test.csv\"), index=False)\n",
    "y_train.to_csv(os.path.join(output_directory, \"y_train.csv\"), index=False)\n",
    "y_test.to_csv(os.path.join(output_directory, \"y_test.csv\"), index=False)"
   ]
  },
  {
   "cell_type": "markdown",
   "id": "ae17610b-4cb9-479d-b692-1a5740888672",
   "metadata": {},
   "source": [
    "##Logistic Regression"
   ]
  },
  {
   "cell_type": "code",
   "execution_count": null,
   "id": "d1d319f6-5099-4e34-a2cb-6ce86d0e8e62",
   "metadata": {},
   "outputs": [],
   "source": [
    "from sklearn.metrics import accuracy_score\n",
    "from sklearn.linear_model import LogisticRegression\n",
    "model = LogisticRegression()\n",
    "model.fit(x_train, y_train)\n",
    "dump(model, 'models/logistic_regression.pkl')"
   ]
  },
  {
   "cell_type": "code",
   "execution_count": 78,
   "id": "443d9080-f98c-4b9a-bc67-4390a2e2863d",
   "metadata": {},
   "outputs": [
    {
     "name": "stdout",
     "output_type": "stream",
     "text": [
      "Training Accuracy: 86.54661016949152\n"
     ]
    }
   ],
   "source": [
    "y_pred_train = model.predict(x_train)\n",
    "accuracy_train = accuracy_score(y_train, y_pred_train)\n",
    "print(\"Training Accuracy:\", accuracy_train * 100)"
   ]
  },
  {
   "cell_type": "code",
   "execution_count": 54,
   "id": "0202712c-9f15-4da3-8c72-d3386ff0cbfb",
   "metadata": {},
   "outputs": [
    {
     "name": "stdout",
     "output_type": "stream",
     "text": [
      "test Accuracy: 90.2542372881356\n"
     ]
    }
   ],
   "source": [
    "y_pred = model.predict(x_test)\n",
    "accuracy = accuracy_score(y_test, y_pred)\n",
    "print(\"test Accuracy:\", accuracy * 100)"
   ]
  },
  {
   "cell_type": "markdown",
   "id": "6c0c1bbc-6f69-49c6-9425-ef2c55311b20",
   "metadata": {},
   "source": [
    "##Decision Tree Classifier"
   ]
  },
  {
   "cell_type": "code",
   "execution_count": 82,
   "id": "e30bf40e-83bb-4bfe-aef6-1f98ec156f5f",
   "metadata": {},
   "outputs": [
    {
     "name": "stdout",
     "output_type": "stream",
     "text": [
      "Train accuracy: 86.54661016949152\n"
     ]
    }
   ],
   "source": [
    "from sklearn.tree import DecisionTreeClassifier\n",
    "dt = DecisionTreeClassifier()\n",
    "dt.fit(x_train,y_train)\n",
    "dump(dt, 'models/dt.pkl')\n",
    "y_pred_train = model.predict(x_train)\n",
    "train_score = accuracy_score(y_train, y_pred_train)\n",
    "print('Train accuracy:', train_score * 100)"
   ]
  },
  {
   "cell_type": "code",
   "execution_count": 83,
   "id": "681b05c5-c8d7-40e3-a8dc-ef7c59f8e8e9",
   "metadata": {},
   "outputs": [
    {
     "name": "stdout",
     "output_type": "stream",
     "text": [
      "Test accuracy: 90.67796610169492\n"
     ]
    }
   ],
   "source": [
    "y_pred = dt.predict(x_test)\n",
    "test_score = accuracy_score(y_test, y_pred)\n",
    "print('Test accuracy:', test_score * 100)"
   ]
  },
  {
   "cell_type": "code",
   "execution_count": 60,
   "id": "3e954496-2f7e-4dcf-b13f-12293df49fdf",
   "metadata": {},
   "outputs": [
    {
     "data": {
      "image/png": "[encoded data removed]",
      "text/plain": [
       "<Figure size 640x480 with 1 Axes>"
      ]
     },
     "metadata": {},
     "output_type": "display_data"
    }
   ],
   "source": [
    "##visualization for Decision Tree Classifier\n",
    "import matplotlib.pyplot as plt \n",
    "directory = 'models_visualization'\n",
    "if not os.path.exists(directory):\n",
    "    os.makedirs(directory)\n",
    "\n",
    "score_list = []\n",
    "\n",
    "for each in range(1, 15):\n",
    "    dt_classifier = DecisionTreeClassifier(max_depth=each, random_state=42)\n",
    "    dt_classifier.fit(x_train, y_train)\n",
    "    dump(dt_classifier, 'models_visualization/dt.pkl')\n",
    "    score_list.append(dt_classifier.score(x_test, y_test))\n",
    "\n",
    "plt.plot(range(1, 15), score_list, marker='o')\n",
    "plt.xlabel(\"Max Depth\")\n",
    "plt.ylabel(\"Accuracy\")\n",
    "plt.title(\"Decision Tree Classifier - Accuracy vs Max Depth\")\n",
    "plt.show()"
   ]
  },
  {
   "cell_type": "markdown",
   "id": "3b6ddac6-66bf-4dce-a4be-93bb92c9c436",
   "metadata": {},
   "source": [
    "##RandomForestClassifier"
   ]
  },
  {
   "cell_type": "code",
   "execution_count": 79,
   "id": "687919c6-f411-4ae8-9cc9-c3f9fbe2b4b3",
   "metadata": {},
   "outputs": [
    {
     "name": "stdout",
     "output_type": "stream",
     "text": [
      "Train accuracy: 100.0\n"
     ]
    }
   ],
   "source": [
    "from sklearn.ensemble import RandomForestClassifier\n",
    "\n",
    "RF = RandomForestClassifier()\n",
    "RF.fit(x_train, y_train)\n",
    "dump(RF, 'models/RF.pkl')\n",
    "y_pred_train = RF.predict(x_train)\n",
    "train_score = accuracy_score(y_train, y_pred_train)\n",
    "print('Train accuracy:', train_score * 100)"
   ]
  },
  {
   "cell_type": "code",
   "execution_count": 81,
   "id": "ebd7a7bf-c281-42af-b23b-acac40b10046",
   "metadata": {},
   "outputs": [
    {
     "name": "stdout",
     "output_type": "stream",
     "text": [
      "Test accuracy: 94.49152542372882\n"
     ]
    }
   ],
   "source": [
    "y_pred = RF.predict(x_test)\n",
    "test_score = accuracy_score(y_test, y_pred)\n",
    "print('Test accuracy:', test_score * 100)"
   ]
  },
  {
   "cell_type": "code",
   "execution_count": 64,
   "id": "ede36138-7aa0-4447-bf1d-9a3fd3a2500b",
   "metadata": {},
   "outputs": [
    {
     "data": {
      "image/png": "[encoded data removed]",
      "text/plain": [
       "<Figure size 640x480 with 1 Axes>"
      ]
     },
     "metadata": {},
     "output_type": "display_data"
    }
   ],
   "source": [
    "##visualization for random forest classifier\n",
    "score_list = []\n",
    "\n",
    "for each in range(1, 15):\n",
    "    rf_classifier = RandomForestClassifier(n_estimators=100, max_depth=each, random_state=42)\n",
    "    rf_classifier.fit(x_train, y_train)\n",
    "    dump(rf_classifier, 'models_visualization/RF.pkl')\n",
    "    score_list.append(rf_classifier.score(x_test, y_test))\n",
    "\n",
    "plt.plot(range(1, 15), score_list, marker='o')\n",
    "plt.xlabel(\"Max Depth\")\n",
    "plt.ylabel(\"Accuracy\")\n",
    "plt.title(\"Random Forest Classifier - Accuracy vs Max Depth\")\n",
    "plt.show()"
   ]
  },
  {
   "cell_type": "markdown",
   "id": "51b8cf64-a5bc-40c0-a09a-ad904d8d1e75",
   "metadata": {},
   "source": [
    "##KNeighborsClassifier"
   ]
  },
  {
   "cell_type": "code",
   "execution_count": 84,
   "id": "ddc005e2-c4a2-4482-b521-19c95def3e73",
   "metadata": {},
   "outputs": [
    {
     "name": "stdout",
     "output_type": "stream",
     "text": [
      "Train accuracy: 93.85593220338984\n"
     ]
    }
   ],
   "source": [
    "from sklearn.neighbors import KNeighborsClassifier\n",
    "\n",
    "knn = KNeighborsClassifier()\n",
    "knn.fit(x_train, y_train)\n",
    "dump(knn, 'models/KNN.pkl')\n",
    "y_pred_train = knn.predict(x_train)\n",
    "train_score = accuracy_score(y_train, y_pred_train)\n",
    "print('Train accuracy:', train_score * 100)"
   ]
  },
  {
   "cell_type": "code",
   "execution_count": 85,
   "id": "268c50a2-99cd-4b37-8e73-f350fbcdc74e",
   "metadata": {},
   "outputs": [
    {
     "name": "stdout",
     "output_type": "stream",
     "text": [
      "Test accuracy: 94.0677966101695\n"
     ]
    }
   ],
   "source": [
    "y_pred = knn.predict(x_test)\n",
    "test_score = accuracy_score(y_test, y_pred)\n",
    "print('Test accuracy:', test_score * 100)"
   ]
  },
  {
   "cell_type": "code",
   "execution_count": 68,
   "id": "a2f1f5d1-4e9c-4cc5-b8ec-15f334b7e6fa",
   "metadata": {},
   "outputs": [
    {
     "data": {
      "image/png": "[encoded data removed]",
      "text/plain": [
       "<Figure size 640x480 with 1 Axes>"
      ]
     },
     "metadata": {},
     "output_type": "display_data"
    }
   ],
   "source": [
    "##visualization for KNN classifier\n",
    "score_list=[]\n",
    "\n",
    "for each in range(1,15):\n",
    "    knn2=KNeighborsClassifier(n_neighbors=each)\n",
    "    knn2.fit(x_train, y_train)\n",
    "    dump(knn2, 'models_visualization/KNN.pkl')\n",
    "    score_list.append(knn2.score(x_test,y_test))\n",
    "    \n",
    "plt.plot(range(1,15),score_list,marker='o')\n",
    "plt.xlabel(\"K_values\")\n",
    "plt.ylabel(\"Accuracy\")\n",
    "plt.title(\"KNeighborsClassifier - Accuracy vs K_values\")\n",
    "plt.show()"
   ]
  },
  {
   "cell_type": "markdown",
   "id": "a39405c5-c357-4834-ae48-3a78e4b384a9",
   "metadata": {},
   "source": [
    "##support vector machine classifier"
   ]
  },
  {
   "cell_type": "code",
   "execution_count": 87,
   "id": "59c95de4-4d89-4cd5-955d-d6610da4c312",
   "metadata": {},
   "outputs": [
    {
     "name": "stdout",
     "output_type": "stream",
     "text": [
      "Train accuracy: 90.78389830508475\n"
     ]
    }
   ],
   "source": [
    "from sklearn.svm import SVC\n",
    "\n",
    "svm_classifier = SVC()\n",
    "svm_classifier.fit(x_train, y_train)\n",
    "dump(svm_classifier, 'models/SVM.pkl')\n",
    "y_pred_train = svm_classifier.predict(x_train)\n",
    "train_score = accuracy_score(y_train, y_pred_train)\n",
    "print('Train accuracy:', train_score * 100)"
   ]
  },
  {
   "cell_type": "code",
   "execution_count": 88,
   "id": "74a84146-e0ed-46ff-8737-fced5e36a6c5",
   "metadata": {},
   "outputs": [
    {
     "name": "stdout",
     "output_type": "stream",
     "text": [
      "Test accuracy: 91.94915254237289\n"
     ]
    }
   ],
   "source": [
    "y_pred = svm_classifier.predict(x_test)\n",
    "test_score = accuracy_score(y_test, y_pred)\n",
    "print('Test accuracy:', test_score * 100)"
   ]
  },
  {
   "cell_type": "code",
   "execution_count": 89,
   "id": "f27fa10d-bb6e-4428-8548-c86fce4147d2",
   "metadata": {},
   "outputs": [
    {
     "data": {
      "image/png": "[encoded data removed]",
      "text/plain": [
       "<Figure size 640x480 with 1 Axes>"
      ]
     },
     "metadata": {},
     "output_type": "display_data"
    }
   ],
   "source": [
    "##visualization for SVM classifier\n",
    "score_list = []\n",
    "\n",
    "for each in range(1, 15):\n",
    "    svm_classifier = SVC(C=each, kernel='linear') \n",
    "    svm_classifier.fit(x_train, y_train)\n",
    "    dump(svm_classifier, 'models_visualization/SVM.pkl')\n",
    "    score_list.append(svm_classifier.score(x_test, y_test))\n",
    "\n",
    "plt.plot(range(1, 15), score_list, marker='o')\n",
    "plt.xlabel(\"Parameter Values\")\n",
    "plt.ylabel(\"Accuracy\")\n",
    "plt.title(\"Accuracy for Different Parameter Values in SVM\")\n",
    "plt.grid(True)\n",
    "plt.show()"
   ]
  },
  {
   "cell_type": "code",
   "execution_count": null,
   "id": "adc2ddf6-51a0-4881-a4a5-311e50252e4e",
   "metadata": {},
   "outputs": [],
   "source": []
  }
 ],
 "metadata": {
  "kernelspec": {
   "display_name": "Python 3 (ipykernel)",
   "language": "python",
   "name": "python3"
  },
  "language_info": {
   "codemirror_mode": {
    "name": "ipython",
    "version": 3
   },
   "file_extension": ".py",
   "mimetype": "text/x-python",
   "name": "python",
   "nbconvert_exporter": "python",
   "pygments_lexer": "ipython3",
   "version": "3.11.5"
  }
 },
 "nbformat": 4,
 "nbformat_minor": 5
}
